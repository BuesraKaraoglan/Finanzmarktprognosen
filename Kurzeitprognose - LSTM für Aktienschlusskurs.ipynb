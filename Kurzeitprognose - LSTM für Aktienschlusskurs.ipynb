{
 "cells": [
  {
   "cell_type": "code",
   "execution_count": 150,
   "metadata": {},
   "outputs": [],
   "source": [
    "import numpy as np\n",
    "import pandas as pd  # pip install pandas \n",
    "import talib \n",
    "import tensorflow\n",
    "import keras"
   ]
  },
  {
   "cell_type": "code",
   "execution_count": 151,
   "metadata": {},
   "outputs": [],
   "source": [
    "import random\n",
    "random.seed(1234)"
   ]
  },
  {
   "cell_type": "code",
   "execution_count": 152,
   "metadata": {},
   "outputs": [
    {
     "data": {
      "text/html": [
       "<div>\n",
       "<style scoped>\n",
       "    .dataframe tbody tr th:only-of-type {\n",
       "        vertical-align: middle;\n",
       "    }\n",
       "\n",
       "    .dataframe tbody tr th {\n",
       "        vertical-align: top;\n",
       "    }\n",
       "\n",
       "    .dataframe thead th {\n",
       "        text-align: right;\n",
       "    }\n",
       "</style>\n",
       "<table border=\"1\" class=\"dataframe\">\n",
       "  <thead>\n",
       "    <tr style=\"text-align: right;\">\n",
       "      <th></th>\n",
       "      <th>&lt;OPEN&gt;</th>\n",
       "      <th>&lt;HIGH&gt;</th>\n",
       "      <th>&lt;LOW&gt;</th>\n",
       "      <th>&lt;CLOSE&gt;</th>\n",
       "    </tr>\n",
       "  </thead>\n",
       "  <tbody>\n",
       "    <tr>\n",
       "      <th>21</th>\n",
       "      <td>163.20</td>\n",
       "      <td>164.13</td>\n",
       "      <td>161.94</td>\n",
       "      <td>162.43</td>\n",
       "    </tr>\n",
       "    <tr>\n",
       "      <th>22</th>\n",
       "      <td>161.34</td>\n",
       "      <td>161.79</td>\n",
       "      <td>158.87</td>\n",
       "      <td>158.94</td>\n",
       "    </tr>\n",
       "    <tr>\n",
       "      <th>23</th>\n",
       "      <td>158.10</td>\n",
       "      <td>158.37</td>\n",
       "      <td>150.00</td>\n",
       "      <td>152.55</td>\n",
       "    </tr>\n",
       "    <tr>\n",
       "      <th>24</th>\n",
       "      <td>150.52</td>\n",
       "      <td>155.48</td>\n",
       "      <td>149.25</td>\n",
       "      <td>155.31</td>\n",
       "    </tr>\n",
       "    <tr>\n",
       "      <th>25</th>\n",
       "      <td>154.16</td>\n",
       "      <td>155.28</td>\n",
       "      <td>153.43</td>\n",
       "      <td>153.95</td>\n",
       "    </tr>\n",
       "    <tr>\n",
       "      <th>26</th>\n",
       "      <td>152.32</td>\n",
       "      <td>153.16</td>\n",
       "      <td>147.50</td>\n",
       "      <td>147.54</td>\n",
       "    </tr>\n",
       "    <tr>\n",
       "      <th>27</th>\n",
       "      <td>148.84</td>\n",
       "      <td>150.54</td>\n",
       "      <td>144.41</td>\n",
       "      <td>149.51</td>\n",
       "    </tr>\n",
       "    <tr>\n",
       "      <th>28</th>\n",
       "      <td>150.81</td>\n",
       "      <td>152.39</td>\n",
       "      <td>150.30</td>\n",
       "      <td>151.41</td>\n",
       "    </tr>\n",
       "    <tr>\n",
       "      <th>29</th>\n",
       "      <td>150.90</td>\n",
       "      <td>151.15</td>\n",
       "      <td>149.65</td>\n",
       "      <td>150.79</td>\n",
       "    </tr>\n",
       "  </tbody>\n",
       "</table>\n",
       "</div>"
      ],
      "text/plain": [
       "    <OPEN>  <HIGH>   <LOW>  <CLOSE>\n",
       "21  163.20  164.13  161.94   162.43\n",
       "22  161.34  161.79  158.87   158.94\n",
       "23  158.10  158.37  150.00   152.55\n",
       "24  150.52  155.48  149.25   155.31\n",
       "25  154.16  155.28  153.43   153.95\n",
       "26  152.32  153.16  147.50   147.54\n",
       "27  148.84  150.54  144.41   149.51\n",
       "28  150.81  152.39  150.30   151.41\n",
       "29  150.90  151.15  149.65   150.79"
      ]
     },
     "execution_count": 152,
     "metadata": {},
     "output_type": "execute_result"
    }
   ],
   "source": [
    "dataset = pd.read_csv('C:\\\\BÜSRA\\\\Uni\\\\Master\\\\Pflichtfächer\\\\Projekt Simulation SS 18\\\\DATEN IBM\\\\ohlc_jan18_feb18.csv')\n",
    "dataset = dataset.dropna()\n",
    "dataset = dataset[['<OPEN>','<HIGH>','<LOW>','<CLOSE>']]\n",
    "dataset = dataset[21:30] ### ab 21 da hier CLOSE\n",
    "dataset"
   ]
  },
  {
   "cell_type": "code",
   "execution_count": 153,
   "metadata": {},
   "outputs": [
    {
     "data": {
      "text/html": [
       "<div>\n",
       "<style scoped>\n",
       "    .dataframe tbody tr th:only-of-type {\n",
       "        vertical-align: middle;\n",
       "    }\n",
       "\n",
       "    .dataframe tbody tr th {\n",
       "        vertical-align: top;\n",
       "    }\n",
       "\n",
       "    .dataframe thead th {\n",
       "        text-align: right;\n",
       "    }\n",
       "</style>\n",
       "<table border=\"1\" class=\"dataframe\">\n",
       "  <thead>\n",
       "    <tr style=\"text-align: right;\">\n",
       "      <th></th>\n",
       "      <th>&lt;OPEN&gt;</th>\n",
       "      <th>&lt;HIGH&gt;</th>\n",
       "      <th>&lt;LOW&gt;</th>\n",
       "      <th>&lt;CLOSE&gt;</th>\n",
       "    </tr>\n",
       "  </thead>\n",
       "  <tbody>\n",
       "    <tr>\n",
       "      <th>21</th>\n",
       "      <td>163.20</td>\n",
       "      <td>164.13</td>\n",
       "      <td>161.94</td>\n",
       "      <td>162.43</td>\n",
       "    </tr>\n",
       "    <tr>\n",
       "      <th>22</th>\n",
       "      <td>161.34</td>\n",
       "      <td>161.79</td>\n",
       "      <td>158.87</td>\n",
       "      <td>158.94</td>\n",
       "    </tr>\n",
       "    <tr>\n",
       "      <th>23</th>\n",
       "      <td>158.10</td>\n",
       "      <td>158.37</td>\n",
       "      <td>150.00</td>\n",
       "      <td>152.55</td>\n",
       "    </tr>\n",
       "    <tr>\n",
       "      <th>24</th>\n",
       "      <td>150.52</td>\n",
       "      <td>155.48</td>\n",
       "      <td>149.25</td>\n",
       "      <td>155.31</td>\n",
       "    </tr>\n",
       "    <tr>\n",
       "      <th>25</th>\n",
       "      <td>154.16</td>\n",
       "      <td>155.28</td>\n",
       "      <td>153.43</td>\n",
       "      <td>153.95</td>\n",
       "    </tr>\n",
       "  </tbody>\n",
       "</table>\n",
       "</div>"
      ],
      "text/plain": [
       "    <OPEN>  <HIGH>   <LOW>  <CLOSE>\n",
       "21  163.20  164.13  161.94   162.43\n",
       "22  161.34  161.79  158.87   158.94\n",
       "23  158.10  158.37  150.00   152.55\n",
       "24  150.52  155.48  149.25   155.31\n",
       "25  154.16  155.28  153.43   153.95"
      ]
     },
     "execution_count": 153,
     "metadata": {},
     "output_type": "execute_result"
    }
   ],
   "source": [
    "dataset.head()"
   ]
  },
  {
   "cell_type": "code",
   "execution_count": 154,
   "metadata": {},
   "outputs": [],
   "source": [
    "#fh=open(\"C:\\\\Users\\\\Büsra\\\\Desktop\\\\KNN_Log_Returns_output.txt\",'w')\n",
    "#print(dataset,file=fh)\n",
    "#fh.close()"
   ]
  },
  {
   "cell_type": "code",
   "execution_count": 155,
   "metadata": {},
   "outputs": [
    {
     "data": {
      "image/png": "[encoded data removed]",
      "text/plain": [
       "<matplotlib.figure.Figure at 0x25ad2a4a828>"
      ]
     },
     "metadata": {},
     "output_type": "display_data"
    }
   ],
   "source": [
    "from matplotlib import pyplot\n",
    "%matplotlib inline\n",
    "datz = dataset['<CLOSE>']\n",
    "#datz.head()\n",
    "pyplot.figure(figsize=(10,5))\n",
    "pyplot.plot(datz, color='r')\n",
    "pyplot.title('IBM Aktienkursverlauf von 01.02.2018 bis 13.02.2018')\n",
    "pyplot.show()"
   ]
  },
  {
   "cell_type": "code",
   "execution_count": 156,
   "metadata": {},
   "outputs": [],
   "source": [
    "dataset['H-L'] = dataset['<HIGH>'] - dataset['<LOW>']\n",
    "dataset['O-C'] = dataset['<CLOSE>'] - dataset['<OPEN>']\n",
    "dataset['Close(t+1)']=dataset['<CLOSE>'].shift(-1)\n",
    "#dataset[\"Preis_differenz\"]=dataset['<CLOSE>']-dataset['<CLOSE>'].shift(-1)"
   ]
  },
  {
   "cell_type": "code",
   "execution_count": 157,
   "metadata": {},
   "outputs": [
    {
     "data": {
      "text/html": [
       "<div>\n",
       "<style scoped>\n",
       "    .dataframe tbody tr th:only-of-type {\n",
       "        vertical-align: middle;\n",
       "    }\n",
       "\n",
       "    .dataframe tbody tr th {\n",
       "        vertical-align: top;\n",
       "    }\n",
       "\n",
       "    .dataframe thead th {\n",
       "        text-align: right;\n",
       "    }\n",
       "</style>\n",
       "<table border=\"1\" class=\"dataframe\">\n",
       "  <thead>\n",
       "    <tr style=\"text-align: right;\">\n",
       "      <th></th>\n",
       "      <th>&lt;OPEN&gt;</th>\n",
       "      <th>&lt;HIGH&gt;</th>\n",
       "      <th>&lt;LOW&gt;</th>\n",
       "      <th>&lt;CLOSE&gt;</th>\n",
       "      <th>H-L</th>\n",
       "      <th>O-C</th>\n",
       "      <th>Close(t+1)</th>\n",
       "    </tr>\n",
       "  </thead>\n",
       "  <tbody>\n",
       "    <tr>\n",
       "      <th>21</th>\n",
       "      <td>163.20</td>\n",
       "      <td>164.13</td>\n",
       "      <td>161.94</td>\n",
       "      <td>162.43</td>\n",
       "      <td>2.19</td>\n",
       "      <td>-0.77</td>\n",
       "      <td>158.94</td>\n",
       "    </tr>\n",
       "    <tr>\n",
       "      <th>22</th>\n",
       "      <td>161.34</td>\n",
       "      <td>161.79</td>\n",
       "      <td>158.87</td>\n",
       "      <td>158.94</td>\n",
       "      <td>2.92</td>\n",
       "      <td>-2.40</td>\n",
       "      <td>152.55</td>\n",
       "    </tr>\n",
       "    <tr>\n",
       "      <th>23</th>\n",
       "      <td>158.10</td>\n",
       "      <td>158.37</td>\n",
       "      <td>150.00</td>\n",
       "      <td>152.55</td>\n",
       "      <td>8.37</td>\n",
       "      <td>-5.55</td>\n",
       "      <td>155.31</td>\n",
       "    </tr>\n",
       "    <tr>\n",
       "      <th>24</th>\n",
       "      <td>150.52</td>\n",
       "      <td>155.48</td>\n",
       "      <td>149.25</td>\n",
       "      <td>155.31</td>\n",
       "      <td>6.23</td>\n",
       "      <td>4.79</td>\n",
       "      <td>153.95</td>\n",
       "    </tr>\n",
       "    <tr>\n",
       "      <th>25</th>\n",
       "      <td>154.16</td>\n",
       "      <td>155.28</td>\n",
       "      <td>153.43</td>\n",
       "      <td>153.95</td>\n",
       "      <td>1.85</td>\n",
       "      <td>-0.21</td>\n",
       "      <td>147.54</td>\n",
       "    </tr>\n",
       "  </tbody>\n",
       "</table>\n",
       "</div>"
      ],
      "text/plain": [
       "    <OPEN>  <HIGH>   <LOW>  <CLOSE>   H-L   O-C  Close(t+1)\n",
       "21  163.20  164.13  161.94   162.43  2.19 -0.77      158.94\n",
       "22  161.34  161.79  158.87   158.94  2.92 -2.40      152.55\n",
       "23  158.10  158.37  150.00   152.55  8.37 -5.55      155.31\n",
       "24  150.52  155.48  149.25   155.31  6.23  4.79      153.95\n",
       "25  154.16  155.28  153.43   153.95  1.85 -0.21      147.54"
      ]
     },
     "execution_count": 157,
     "metadata": {},
     "output_type": "execute_result"
    }
   ],
   "source": [
    "dataset = dataset.dropna()\n",
    "dataset = dataset.dropna(thresh=2)\n",
    "dataset.head()"
   ]
  },
  {
   "cell_type": "code",
   "execution_count": 158,
   "metadata": {},
   "outputs": [],
   "source": [
    "from sklearn.preprocessing import MinMaxScaler\n",
    "scaler = MinMaxScaler(feature_range=(0, 1))\n",
    "X= scaler.fit_transform(dataset[['<CLOSE>', 'H-L','O-C']])\n",
    "y= scaler.fit_transform(dataset[['Close(t+1)']])"
   ]
  },
  {
   "cell_type": "code",
   "execution_count": 159,
   "metadata": {},
   "outputs": [],
   "source": [
    "# ab 01.02.18 als training  --- 6 Tage\n",
    "# 12.02 und 13.02 vorhersagen --- da t+1\n",
    "X_train = X[:6]\n",
    "X_test = X[6:]\n",
    "y_train = y[:6]\n",
    "y_test = y[6:]"
   ]
  },
  {
   "cell_type": "code",
   "execution_count": 160,
   "metadata": {},
   "outputs": [],
   "source": [
    "#X_test"
   ]
  },
  {
   "cell_type": "code",
   "execution_count": 161,
   "metadata": {},
   "outputs": [
    {
     "name": "stdout",
     "output_type": "stream",
     "text": [
      "6 2\n",
      "6 2\n"
     ]
    }
   ],
   "source": [
    "print(len(X_train), len(X_test))\n",
    "print(len(y_train),len(y_test))"
   ]
  },
  {
   "cell_type": "code",
   "execution_count": 162,
   "metadata": {},
   "outputs": [
    {
     "name": "stdout",
     "output_type": "stream",
     "text": [
      "(6, 1, 3) (6, 1) (2, 1, 3) (2, 1)\n"
     ]
    }
   ],
   "source": [
    "X_train = X_train.reshape((X_train.shape[0], 1, X_train.shape[1]))\n",
    "X_test = X_test.reshape((X_test.shape[0], 1, X_test.shape[1]))\n",
    "print(X_train.shape, y_train.shape, X_test.shape, y_test.shape)"
   ]
  },
  {
   "cell_type": "code",
   "execution_count": 163,
   "metadata": {},
   "outputs": [],
   "source": [
    "from keras.models import Sequential\n",
    "from keras.layers import Dense\n",
    "from keras.layers import LSTM"
   ]
  },
  {
   "cell_type": "code",
   "execution_count": 164,
   "metadata": {},
   "outputs": [
    {
     "name": "stdout",
     "output_type": "stream",
     "text": [
      "Train on 6 samples, validate on 2 samples\n",
      "Epoch 1/50\n",
      " - 1s - loss: 0.3501 - val_loss: 0.0907\n",
      "Epoch 2/50\n",
      " - 0s - loss: 0.3444 - val_loss: 0.0868\n",
      "Epoch 3/50\n",
      " - 0s - loss: 0.3369 - val_loss: 0.0830\n",
      "Epoch 4/50\n",
      " - 0s - loss: 0.3295 - val_loss: 0.0793\n",
      "Epoch 5/50\n",
      " - 0s - loss: 0.3222 - val_loss: 0.0757\n",
      "Epoch 6/50\n",
      " - 0s - loss: 0.3150 - val_loss: 0.0722\n",
      "Epoch 7/50\n",
      " - 0s - loss: 0.3079 - val_loss: 0.0687\n",
      "Epoch 8/50\n",
      " - 0s - loss: 0.3009 - val_loss: 0.0654\n",
      "Epoch 9/50\n",
      " - 0s - loss: 0.2940 - val_loss: 0.0621\n",
      "Epoch 10/50\n",
      " - 0s - loss: 0.2873 - val_loss: 0.0589\n",
      "Epoch 11/50\n",
      " - 0s - loss: 0.2806 - val_loss: 0.0557\n",
      "Epoch 12/50\n",
      " - 0s - loss: 0.2740 - val_loss: 0.0527\n",
      "Epoch 13/50\n",
      " - 0s - loss: 0.2675 - val_loss: 0.0497\n",
      "Epoch 14/50\n",
      " - 0s - loss: 0.2611 - val_loss: 0.0468\n",
      "Epoch 15/50\n",
      " - 0s - loss: 0.2548 - val_loss: 0.0439\n",
      "Epoch 16/50\n",
      " - 0s - loss: 0.2487 - val_loss: 0.0412\n",
      "Epoch 17/50\n",
      " - 0s - loss: 0.2426 - val_loss: 0.0385\n",
      "Epoch 18/50\n",
      " - 0s - loss: 0.2366 - val_loss: 0.0359\n",
      "Epoch 19/50\n",
      " - 0s - loss: 0.2307 - val_loss: 0.0334\n",
      "Epoch 20/50\n",
      " - 0s - loss: 0.2249 - val_loss: 0.0310\n",
      "Epoch 21/50\n",
      " - 0s - loss: 0.2192 - val_loss: 0.0286\n",
      "Epoch 22/50\n",
      " - 0s - loss: 0.2135 - val_loss: 0.0264\n",
      "Epoch 23/50\n",
      " - 0s - loss: 0.2080 - val_loss: 0.0242\n",
      "Epoch 24/50\n",
      " - 0s - loss: 0.2026 - val_loss: 0.0221\n",
      "Epoch 25/50\n",
      " - 0s - loss: 0.1973 - val_loss: 0.0201\n",
      "Epoch 26/50\n",
      " - 0s - loss: 0.1921 - val_loss: 0.0182\n",
      "Epoch 27/50\n",
      " - 0s - loss: 0.1870 - val_loss: 0.0164\n",
      "Epoch 28/50\n",
      " - 0s - loss: 0.1820 - val_loss: 0.0146\n",
      "Epoch 29/50\n",
      " - 0s - loss: 0.1771 - val_loss: 0.0130\n",
      "Epoch 30/50\n",
      " - 0s - loss: 0.1723 - val_loss: 0.0115\n",
      "Epoch 31/50\n",
      " - 0s - loss: 0.1676 - val_loss: 0.0100\n",
      "Epoch 32/50\n",
      " - 0s - loss: 0.1630 - val_loss: 0.0086\n",
      "Epoch 33/50\n",
      " - 0s - loss: 0.1585 - val_loss: 0.0074\n",
      "Epoch 34/50\n",
      " - 0s - loss: 0.1542 - val_loss: 0.0062\n",
      "Epoch 35/50\n",
      " - 0s - loss: 0.1500 - val_loss: 0.0052\n",
      "Epoch 36/50\n",
      " - 0s - loss: 0.1458 - val_loss: 0.0042\n",
      "Epoch 37/50\n",
      " - 0s - loss: 0.1419 - val_loss: 0.0033\n",
      "Epoch 38/50\n",
      " - 0s - loss: 0.1380 - val_loss: 0.0026\n",
      "Epoch 39/50\n",
      " - 0s - loss: 0.1343 - val_loss: 0.0019\n",
      "Epoch 40/50\n",
      " - 0s - loss: 0.1306 - val_loss: 0.0013\n",
      "Epoch 41/50\n",
      " - 0s - loss: 0.1272 - val_loss: 8.7288e-04\n",
      "Epoch 42/50\n",
      " - 0s - loss: 0.1238 - val_loss: 5.0986e-04\n",
      "Epoch 43/50\n",
      " - 0s - loss: 0.1206 - val_loss: 2.4546e-04\n",
      "Epoch 44/50\n",
      " - 0s - loss: 0.1175 - val_loss: 7.8352e-05\n",
      "Epoch 45/50\n",
      " - 0s - loss: 0.1145 - val_loss: 6.8419e-06\n",
      "Epoch 46/50\n",
      " - 0s - loss: 0.1117 - val_loss: 2.9533e-05\n",
      "Epoch 47/50\n",
      " - 0s - loss: 0.1090 - val_loss: 1.4347e-04\n",
      "Epoch 48/50\n",
      " - 0s - loss: 0.1065 - val_loss: 3.4550e-04\n",
      "Epoch 49/50\n",
      " - 0s - loss: 0.1040 - val_loss: 6.3231e-04\n",
      "Epoch 50/50\n",
      " - 0s - loss: 0.1018 - val_loss: 0.0010\n"
     ]
    }
   ],
   "source": [
    "lstm = Sequential()\n",
    "lstm.add(LSTM(64, input_shape=(X_train.shape[1], X_train.shape[2])))\n",
    "lstm.add(Dense(1))\n",
    "lstm.compile(loss= 'mean_squared_error', optimizer='adam')\n",
    "\n",
    "history = lstm.fit(X_train, y_train, epochs=50, batch_size=72, validation_data=(X_test, y_test), verbose=2, shuffle=False)"
   ]
  },
  {
   "cell_type": "code",
   "execution_count": 165,
   "metadata": {},
   "outputs": [
    {
     "data": {
      "text/plain": [
       "(None, 1, 3)"
      ]
     },
     "execution_count": 165,
     "metadata": {},
     "output_type": "execute_result"
    }
   ],
   "source": [
    "lstm.input_shape"
   ]
  },
  {
   "cell_type": "code",
   "execution_count": 166,
   "metadata": {},
   "outputs": [
    {
     "data": {
      "text/plain": [
       "(None, 1)"
      ]
     },
     "execution_count": 166,
     "metadata": {},
     "output_type": "execute_result"
    }
   ],
   "source": [
    "lstm.output_shape"
   ]
  },
  {
   "cell_type": "code",
   "execution_count": 167,
   "metadata": {},
   "outputs": [
    {
     "name": "stdout",
     "output_type": "stream",
     "text": [
      "_________________________________________________________________\n",
      "Layer (type)                 Output Shape              Param #   \n",
      "=================================================================\n",
      "lstm_6 (LSTM)                (None, 64)                17408     \n",
      "_________________________________________________________________\n",
      "dense_6 (Dense)              (None, 1)                 65        \n",
      "=================================================================\n",
      "Total params: 17,473\n",
      "Trainable params: 17,473\n",
      "Non-trainable params: 0\n",
      "_________________________________________________________________\n"
     ]
    }
   ],
   "source": [
    "lstm.summary()"
   ]
  },
  {
   "cell_type": "code",
   "execution_count": 168,
   "metadata": {},
   "outputs": [
    {
     "data": {
      "image/svg+xml": [
       "<svg height=\"78pt\" viewBox=\"0.00 0.00 492.00 78.00\" width=\"492pt\" xmlns=\"http://www.w3.org/2000/svg\" xmlns:xlink=\"http://www.w3.org/1999/xlink\">\n",
       "<g class=\"graph\" id=\"graph0\" transform=\"scale(1 1) rotate(0) translate(4 74)\">\n",
       "<title>G</title>\n",
       "<polygon fill=\"white\" points=\"-4,4 -4,-74 488,-74 488,4 -4,4\" stroke=\"none\"/>\n",
       "<!-- 2589156157928 -->\n",
       "<g class=\"node\" id=\"node1\"><title>2589156157928</title>\n",
       "<polygon fill=\"none\" points=\"140,-0.5 140,-69.5 301,-69.5 301,-0.5 140,-0.5\" stroke=\"black\"/>\n",
       "<text font-family=\"Times New Roman,serif\" font-size=\"14.00\" text-anchor=\"middle\" x=\"220.5\" y=\"-54.3\">lstm_6: LSTM</text>\n",
       "<polyline fill=\"none\" points=\"140,-46.5 301,-46.5 \" stroke=\"black\"/>\n",
       "<text font-family=\"Times New Roman,serif\" font-size=\"14.00\" text-anchor=\"middle\" x=\"178\" y=\"-31.3\">input:</text>\n",
       "<polyline fill=\"none\" points=\"216,-23.5 216,-46.5 \" stroke=\"black\"/>\n",
       "<text font-family=\"Times New Roman,serif\" font-size=\"14.00\" text-anchor=\"middle\" x=\"258.5\" y=\"-31.3\">output:</text>\n",
       "<polyline fill=\"none\" points=\"140,-23.5 301,-23.5 \" stroke=\"black\"/>\n",
       "<text font-family=\"Times New Roman,serif\" font-size=\"14.00\" text-anchor=\"middle\" x=\"182\" y=\"-8.3\">(None, 1, 3)</text>\n",
       "<polyline fill=\"none\" points=\"224,-0.5 224,-23.5 \" stroke=\"black\"/>\n",
       "<text font-family=\"Times New Roman,serif\" font-size=\"14.00\" text-anchor=\"middle\" x=\"262.5\" y=\"-8.3\">(None, 64)</text>\n",
       "</g>\n",
       "<!-- 2589156156136 -->\n",
       "<g class=\"node\" id=\"node2\"><title>2589156156136</title>\n",
       "<polygon fill=\"none\" points=\"337,-0.5 337,-69.5 484,-69.5 484,-0.5 337,-0.5\" stroke=\"black\"/>\n",
       "<text font-family=\"Times New Roman,serif\" font-size=\"14.00\" text-anchor=\"middle\" x=\"410.5\" y=\"-54.3\">dense_6: Dense</text>\n",
       "<polyline fill=\"none\" points=\"337,-46.5 484,-46.5 \" stroke=\"black\"/>\n",
       "<text font-family=\"Times New Roman,serif\" font-size=\"14.00\" text-anchor=\"middle\" x=\"371.5\" y=\"-31.3\">input:</text>\n",
       "<polyline fill=\"none\" points=\"406,-23.5 406,-46.5 \" stroke=\"black\"/>\n",
       "<text font-family=\"Times New Roman,serif\" font-size=\"14.00\" text-anchor=\"middle\" x=\"445\" y=\"-31.3\">output:</text>\n",
       "<polyline fill=\"none\" points=\"337,-23.5 484,-23.5 \" stroke=\"black\"/>\n",
       "<text font-family=\"Times New Roman,serif\" font-size=\"14.00\" text-anchor=\"middle\" x=\"375.5\" y=\"-8.3\">(None, 64)</text>\n",
       "<polyline fill=\"none\" points=\"414,-0.5 414,-23.5 \" stroke=\"black\"/>\n",
       "<text font-family=\"Times New Roman,serif\" font-size=\"14.00\" text-anchor=\"middle\" x=\"449\" y=\"-8.3\">(None, 1)</text>\n",
       "</g>\n",
       "<!-- 2589156157928&#45;&gt;2589156156136 -->\n",
       "<g class=\"edge\" id=\"edge2\"><title>2589156157928-&gt;2589156156136</title>\n",
       "<path d=\"M301.229,-35C309.624,-35 318.175,-35 326.606,-35\" fill=\"none\" stroke=\"black\"/>\n",
       "<polygon fill=\"black\" points=\"326.81,-38.5001 336.81,-35 326.81,-31.5001 326.81,-38.5001\" stroke=\"black\"/>\n",
       "</g>\n",
       "<!-- 2589156156304 -->\n",
       "<g class=\"node\" id=\"node3\"><title>2589156156304</title>\n",
       "<polygon fill=\"none\" points=\"0,-17 0,-53 104,-53 104,-17 0,-17\" stroke=\"black\"/>\n",
       "<text font-family=\"Times New Roman,serif\" font-size=\"14.00\" text-anchor=\"middle\" x=\"52\" y=\"-31.3\">2589156156304</text>\n",
       "</g>\n",
       "<!-- 2589156156304&#45;&gt;2589156157928 -->\n",
       "<g class=\"edge\" id=\"edge1\"><title>2589156156304-&gt;2589156157928</title>\n",
       "<path d=\"M104.314,-35C112.418,-35 120.998,-35 129.673,-35\" fill=\"none\" stroke=\"black\"/>\n",
       "<polygon fill=\"black\" points=\"129.879,-38.5001 139.879,-35 129.879,-31.5001 129.879,-38.5001\" stroke=\"black\"/>\n",
       "</g>\n",
       "</g>\n",
       "</svg>"
      ],
      "text/plain": [
       "<IPython.core.display.SVG object>"
      ]
     },
     "execution_count": 168,
     "metadata": {},
     "output_type": "execute_result"
    }
   ],
   "source": [
    "# Print Neural Net Model\n",
    "from IPython.display import SVG\n",
    "from keras.utils.vis_utils import model_to_dot\n",
    "SVG(model_to_dot(lstm, show_shapes=True, rankdir='LR').create(prog='dot', format='svg'))"
   ]
  },
  {
   "cell_type": "code",
   "execution_count": 169,
   "metadata": {},
   "outputs": [
    {
     "data": {
      "image/png": "[encoded data removed]",
      "text/plain": [
       "<matplotlib.figure.Figure at 0x25ad8439470>"
      ]
     },
     "metadata": {},
     "output_type": "display_data"
    }
   ],
   "source": [
    "# plot history\n",
    "pyplot.plot(history.history['loss'], label='train')\n",
    "pyplot.plot(history.history['val_loss'], label='test')\n",
    "pyplot.title('LSTM: Lossfunktion der Aktienschlusskurs')\n",
    "pyplot.legend()\n",
    "pyplot.show()"
   ]
  },
  {
   "cell_type": "code",
   "execution_count": 170,
   "metadata": {},
   "outputs": [],
   "source": [
    "y_pre = lstm.predict(X_test)"
   ]
  },
  {
   "cell_type": "code",
   "execution_count": 171,
   "metadata": {},
   "outputs": [
    {
     "data": {
      "image/png": "[encoded data removed]",
      "text/plain": [
       "<matplotlib.figure.Figure at 0x25ad83cf9b0>"
      ]
     },
     "metadata": {},
     "output_type": "display_data"
    }
   ],
   "source": [
    "import matplotlib.pyplot as plt\n",
    "plt.figure(figsize=(10,5))\n",
    "plt.plot(y_test, color='r', label='Tatsächliche Wert')\n",
    "plt.plot(y_pre , color='g', label='Prognose')\n",
    "plt.title('LSTM: Skaliert - Prognose vs wahrer Wert der IBM Aktie')\n",
    "plt.legend()\n",
    "plt.show()"
   ]
  },
  {
   "cell_type": "code",
   "execution_count": 172,
   "metadata": {},
   "outputs": [
    {
     "data": {
      "image/png": "[encoded data removed]",
      "text/plain": [
       "<matplotlib.figure.Figure at 0x25ad8429748>"
      ]
     },
     "metadata": {},
     "output_type": "display_data"
    }
   ],
   "source": [
    "yhat = lstm.predict(X_test)\n",
    "X_test = X_test.reshape((X_test.shape[0], X_test.shape[2]))\n",
    "\n",
    "from numpy import concatenate\n",
    "# inverse Skalierung - Prognose\n",
    "inv_yhat = concatenate((yhat, X_test[:, 1:]), axis=1)\n",
    "inv_yhat = scaler.inverse_transform(inv_yhat)\n",
    "inv_yhat = inv_yhat[:,0]\n",
    "# inverse Skalierung - Echte Daten\n",
    "y_test = y_test.reshape((len(y_test), 1))\n",
    "inv_y = concatenate((y_test, X_test[:, 1:]), axis=1)\n",
    "inv_y = scaler.inverse_transform(inv_y)\n",
    "inv_y = inv_y[:,0]\n",
    "\n",
    "plt.figure(figsize=(10,5))\n",
    "plt.plot(inv_y, color='r', label='Tatsächliche Wert')\n",
    "plt.plot(inv_yhat, color='g', label='Prognose')\n",
    "plt.title('LSTM: Prognose vs wahrer Wert der IBM Aktie')\n",
    "plt.legend()\n",
    "plt.show()"
   ]
  },
  {
   "cell_type": "code",
   "execution_count": 173,
   "metadata": {},
   "outputs": [
    {
     "name": "stdout",
     "output_type": "stream",
     "text": [
      "Test MSE: 0.0010\n",
      "Test RMSE: 0.0316\n"
     ]
    }
   ],
   "source": [
    "# Skalierte RMSE\n",
    "from math import sqrt\n",
    "from sklearn.metrics import mean_squared_error\n",
    "\n",
    "mse = mean_squared_error(y_test, y_pre)\n",
    "print('Test MSE: %.4f' % mse)\n",
    "\n",
    "rmse = sqrt(mean_squared_error(y_test, y_pre))\n",
    "print('Test RMSE: %.4f' % rmse)"
   ]
  },
  {
   "cell_type": "code",
   "execution_count": 174,
   "metadata": {},
   "outputs": [
    {
     "name": "stdout",
     "output_type": "stream",
     "text": [
      "Test MSE: 0.1300\n",
      "Test RMSE: 0.3605\n"
     ]
    }
   ],
   "source": [
    "from math import sqrt\n",
    "from sklearn.metrics import mean_squared_error\n",
    "\n",
    "mse = mean_squared_error(inv_y, inv_yhat)\n",
    "print('Test MSE: %.4f' % mse)\n",
    "\n",
    "rmse = sqrt(mean_squared_error(inv_y, inv_yhat))\n",
    "print('Test RMSE: %.4f' % rmse)"
   ]
  },
  {
   "cell_type": "code",
   "execution_count": 175,
   "metadata": {},
   "outputs": [],
   "source": [
    "# Gütemaße -- mit Mathemtatica nicht vergleichbar -- da hier nicht log return sondern Schlusskurspreise\n",
    "\n",
    "#from sklearn.metrics import mean_absolute_error\n",
    "#mean_absolute_error(inv_y, inv_yhat) ###3.167589221673986\n",
    "\n",
    "\n",
    "#import numpy as np\n",
    "#def mean_absolute_percentage_error(y_true, y_pred): \n",
    "#    y_true, y_pred = np.array(y_true), np.array(y_pred)\n",
    "#    return np.mean(np.abs((y_true - y_pred) / y_true)) * 100\n",
    "#\n",
    "#mean_absolute_percentage_error(inv_y, inv_yhat) ####2.0239510911248875"
   ]
  },
  {
   "cell_type": "code",
   "execution_count": 176,
   "metadata": {},
   "outputs": [],
   "source": [
    "KP_lstm_close_skaliert=open(\"C:\\\\BÜSRA\\\\Uni\\\\Master\\\\Pflichtfächer\\\\Projekt Simulation SS 18\\\\Output\\\\Kurzzeit Output\\\\KP_LSTM_Close_skaliert.txt\",'w')\n",
    "print(y_test,file=KP_lstm_close_skaliert)\n",
    "KP_lstm_close_skaliert.close()"
   ]
  },
  {
   "cell_type": "code",
   "execution_count": 177,
   "metadata": {},
   "outputs": [],
   "source": [
    "KP_lstm_close=open(\"C:\\\\BÜSRA\\\\Uni\\\\Master\\\\Pflichtfächer\\\\Projekt Simulation SS 18\\\\Output\\\\Kurzzeit Output\\\\KP_LSTM_Close.txt\",'w')\n",
    "print(inv_y,file=KP_lstm_close)\n",
    "KP_lstm_close.close()"
   ]
  },
  {
   "cell_type": "code",
   "execution_count": 178,
   "metadata": {},
   "outputs": [],
   "source": [
    "KP_lstm_output_close_skaliert=open(\"C:\\\\BÜSRA\\\\Uni\\\\Master\\\\Pflichtfächer\\\\Projekt Simulation SS 18\\\\Output\\\\Kurzzeit Output\\\\KP_LSTM_Close_skaliert_output.txt\",'w')\n",
    "print(y_pre,file=KP_lstm_output_close_skaliert)\n",
    "KP_lstm_output_close_skaliert.close()"
   ]
  },
  {
   "cell_type": "code",
   "execution_count": 179,
   "metadata": {},
   "outputs": [],
   "source": [
    "KP_lstm_output_close=open(\"C:\\\\BÜSRA\\\\Uni\\\\Master\\\\Pflichtfächer\\\\Projekt Simulation SS 18\\\\Output\\\\Kurzzeit Output\\\\KP_LSTM_Close_output.txt\",'w')\n",
    "print(inv_yhat,file=KP_lstm_output_close)\n",
    "KP_lstm_output_close.close()"
   ]
  }
 ],
 "metadata": {
  "kernelspec": {
   "display_name": "Python 3",
   "language": "python",
   "name": "python3"
  },
  "language_info": {
   "codemirror_mode": {
    "name": "ipython",
    "version": 3
   },
   "file_extension": ".py",
   "mimetype": "text/x-python",
   "name": "python",
   "nbconvert_exporter": "python",
   "pygments_lexer": "ipython3",
   "version": "3.5.4"
  }
 },
 "nbformat": 4,
 "nbformat_minor": 2
}
