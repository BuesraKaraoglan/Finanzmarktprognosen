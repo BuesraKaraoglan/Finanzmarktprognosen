{
 "cells": [
  {
   "cell_type": "code",
   "execution_count": 98,
   "metadata": {},
   "outputs": [],
   "source": [
    "import numpy as np\n",
    "import pandas as pd\n",
    "import talib \n",
    "import tensorflow\n",
    "import keras"
   ]
  },
  {
   "cell_type": "code",
   "execution_count": 99,
   "metadata": {},
   "outputs": [],
   "source": [
    "import random\n",
    "random.seed(1234)"
   ]
  },
  {
   "cell_type": "code",
   "execution_count": 100,
   "metadata": {},
   "outputs": [],
   "source": [
    "dataset = pd.read_csv('C:\\\\BÜSRA\\\\Uni\\\\Master\\\\Pflichtfächer\\\\Projekt Simulation SS 18\\\\DATEN IBM\\\\ohlc_jan17_feb18.csv')\n",
    "dataset = dataset.dropna()\n",
    "dataset = dataset[['<OPEN>','<HIGH>','<LOW>','<CLOSE>']]"
   ]
  },
  {
   "cell_type": "code",
   "execution_count": 101,
   "metadata": {},
   "outputs": [
    {
     "data": {
      "text/html": [
       "<div>\n",
       "<style scoped>\n",
       "    .dataframe tbody tr th:only-of-type {\n",
       "        vertical-align: middle;\n",
       "    }\n",
       "\n",
       "    .dataframe tbody tr th {\n",
       "        vertical-align: top;\n",
       "    }\n",
       "\n",
       "    .dataframe thead th {\n",
       "        text-align: right;\n",
       "    }\n",
       "</style>\n",
       "<table border=\"1\" class=\"dataframe\">\n",
       "  <thead>\n",
       "    <tr style=\"text-align: right;\">\n",
       "      <th></th>\n",
       "      <th>&lt;OPEN&gt;</th>\n",
       "      <th>&lt;HIGH&gt;</th>\n",
       "      <th>&lt;LOW&gt;</th>\n",
       "      <th>&lt;CLOSE&gt;</th>\n",
       "    </tr>\n",
       "  </thead>\n",
       "  <tbody>\n",
       "    <tr>\n",
       "      <th>0</th>\n",
       "      <td>167.130</td>\n",
       "      <td>167.86</td>\n",
       "      <td>166.02</td>\n",
       "      <td>167.18</td>\n",
       "    </tr>\n",
       "    <tr>\n",
       "      <th>1</th>\n",
       "      <td>167.615</td>\n",
       "      <td>169.84</td>\n",
       "      <td>167.42</td>\n",
       "      <td>169.24</td>\n",
       "    </tr>\n",
       "    <tr>\n",
       "      <th>2</th>\n",
       "      <td>169.250</td>\n",
       "      <td>169.36</td>\n",
       "      <td>167.29</td>\n",
       "      <td>168.72</td>\n",
       "    </tr>\n",
       "    <tr>\n",
       "      <th>3</th>\n",
       "      <td>168.800</td>\n",
       "      <td>169.91</td>\n",
       "      <td>167.66</td>\n",
       "      <td>169.56</td>\n",
       "    </tr>\n",
       "    <tr>\n",
       "      <th>4</th>\n",
       "      <td>169.470</td>\n",
       "      <td>169.73</td>\n",
       "      <td>167.66</td>\n",
       "      <td>167.71</td>\n",
       "    </tr>\n",
       "  </tbody>\n",
       "</table>\n",
       "</div>"
      ],
      "text/plain": [
       "    <OPEN>  <HIGH>   <LOW>  <CLOSE>\n",
       "0  167.130  167.86  166.02   167.18\n",
       "1  167.615  169.84  167.42   169.24\n",
       "2  169.250  169.36  167.29   168.72\n",
       "3  168.800  169.91  167.66   169.56\n",
       "4  169.470  169.73  167.66   167.71"
      ]
     },
     "execution_count": 101,
     "metadata": {},
     "output_type": "execute_result"
    }
   ],
   "source": [
    "dataset.head()"
   ]
  },
  {
   "cell_type": "code",
   "execution_count": 102,
   "metadata": {},
   "outputs": [],
   "source": [
    "#fh=open(\"C:\\\\Users\\\\Büsra\\\\Desktop\\\\KNN_Log_Returns_output.txt\",'w')\n",
    "#print(dataset,file=fh)\n",
    "#fh.close()"
   ]
  },
  {
   "cell_type": "code",
   "execution_count": 103,
   "metadata": {},
   "outputs": [],
   "source": [
    "dataset['H-L'] = dataset['<HIGH>'] - dataset['<LOW>']\n",
    "dataset['O-C'] = dataset['<CLOSE>'] - dataset['<OPEN>']\n",
    "dataset['Log Renditen'] = np.log(dataset['<CLOSE>']/dataset['<CLOSE>'].shift(1))\n",
    "dataset['Log Renditen(t+1)']=dataset['Log Renditen'].shift(-1)"
   ]
  },
  {
   "cell_type": "code",
   "execution_count": 104,
   "metadata": {},
   "outputs": [
    {
     "data": {
      "text/html": [
       "<div>\n",
       "<style scoped>\n",
       "    .dataframe tbody tr th:only-of-type {\n",
       "        vertical-align: middle;\n",
       "    }\n",
       "\n",
       "    .dataframe tbody tr th {\n",
       "        vertical-align: top;\n",
       "    }\n",
       "\n",
       "    .dataframe thead th {\n",
       "        text-align: right;\n",
       "    }\n",
       "</style>\n",
       "<table border=\"1\" class=\"dataframe\">\n",
       "  <thead>\n",
       "    <tr style=\"text-align: right;\">\n",
       "      <th></th>\n",
       "      <th>&lt;OPEN&gt;</th>\n",
       "      <th>&lt;HIGH&gt;</th>\n",
       "      <th>&lt;LOW&gt;</th>\n",
       "      <th>&lt;CLOSE&gt;</th>\n",
       "      <th>H-L</th>\n",
       "      <th>O-C</th>\n",
       "      <th>Log Renditen</th>\n",
       "      <th>Log Renditen(t+1)</th>\n",
       "    </tr>\n",
       "  </thead>\n",
       "  <tbody>\n",
       "    <tr>\n",
       "      <th>1</th>\n",
       "      <td>167.615</td>\n",
       "      <td>169.84</td>\n",
       "      <td>167.42</td>\n",
       "      <td>169.24</td>\n",
       "      <td>2.42</td>\n",
       "      <td>1.625</td>\n",
       "      <td>0.012247</td>\n",
       "      <td>-0.003077</td>\n",
       "    </tr>\n",
       "    <tr>\n",
       "      <th>2</th>\n",
       "      <td>169.250</td>\n",
       "      <td>169.36</td>\n",
       "      <td>167.29</td>\n",
       "      <td>168.72</td>\n",
       "      <td>2.07</td>\n",
       "      <td>-0.530</td>\n",
       "      <td>-0.003077</td>\n",
       "      <td>0.004966</td>\n",
       "    </tr>\n",
       "    <tr>\n",
       "      <th>3</th>\n",
       "      <td>168.800</td>\n",
       "      <td>169.91</td>\n",
       "      <td>167.66</td>\n",
       "      <td>169.56</td>\n",
       "      <td>2.25</td>\n",
       "      <td>0.760</td>\n",
       "      <td>0.004966</td>\n",
       "      <td>-0.010971</td>\n",
       "    </tr>\n",
       "    <tr>\n",
       "      <th>4</th>\n",
       "      <td>169.470</td>\n",
       "      <td>169.73</td>\n",
       "      <td>167.66</td>\n",
       "      <td>167.71</td>\n",
       "      <td>2.07</td>\n",
       "      <td>-1.760</td>\n",
       "      <td>-0.010971</td>\n",
       "      <td>-0.012963</td>\n",
       "    </tr>\n",
       "    <tr>\n",
       "      <th>5</th>\n",
       "      <td>167.960</td>\n",
       "      <td>167.99</td>\n",
       "      <td>165.42</td>\n",
       "      <td>165.55</td>\n",
       "      <td>2.57</td>\n",
       "      <td>-2.410</td>\n",
       "      <td>-0.012963</td>\n",
       "      <td>0.013142</td>\n",
       "    </tr>\n",
       "  </tbody>\n",
       "</table>\n",
       "</div>"
      ],
      "text/plain": [
       "    <OPEN>  <HIGH>   <LOW>  <CLOSE>   H-L    O-C  Log Renditen  \\\n",
       "1  167.615  169.84  167.42   169.24  2.42  1.625      0.012247   \n",
       "2  169.250  169.36  167.29   168.72  2.07 -0.530     -0.003077   \n",
       "3  168.800  169.91  167.66   169.56  2.25  0.760      0.004966   \n",
       "4  169.470  169.73  167.66   167.71  2.07 -1.760     -0.010971   \n",
       "5  167.960  167.99  165.42   165.55  2.57 -2.410     -0.012963   \n",
       "\n",
       "   Log Renditen(t+1)  \n",
       "1          -0.003077  \n",
       "2           0.004966  \n",
       "3          -0.010971  \n",
       "4          -0.012963  \n",
       "5           0.013142  "
      ]
     },
     "execution_count": 104,
     "metadata": {},
     "output_type": "execute_result"
    }
   ],
   "source": [
    "dataset = dataset.dropna()\n",
    "dataset = dataset.dropna(thresh=2)\n",
    "dataset.head()"
   ]
  },
  {
   "cell_type": "code",
   "execution_count": 105,
   "metadata": {},
   "outputs": [
    {
     "data": {
      "image/png": "[encoded data removed]",
      "text/plain": [
       "<matplotlib.figure.Figure at 0x28c349e22e8>"
      ]
     },
     "metadata": {},
     "output_type": "display_data"
    }
   ],
   "source": [
    "from matplotlib import pyplot\n",
    "%matplotlib inline\n",
    "datz = dataset['Log Renditen']\n",
    "#datz.head()\n",
    "pyplot.figure(figsize=(10,5))\n",
    "pyplot.plot(datz, color='b')\n",
    "pyplot.title('IBM Log Renditen 2017 bis 2018')\n",
    "pyplot.show()"
   ]
  },
  {
   "cell_type": "code",
   "execution_count": 106,
   "metadata": {},
   "outputs": [
    {
     "data": {
      "image/png": "[encoded data removed]",
      "text/plain": [
       "<matplotlib.figure.Figure at 0x28c34a1d550>"
      ]
     },
     "metadata": {},
     "output_type": "display_data"
    }
   ],
   "source": [
    "from matplotlib import pyplot\n",
    "%matplotlib inline\n",
    "datz = dataset['Log Renditen'][251:]\n",
    "#datz.head()\n",
    "pyplot.figure(figsize=(10,5))\n",
    "pyplot.plot(datz, color='b')\n",
    "pyplot.title('IBM Log Renditen 2018')\n",
    "pyplot.show()"
   ]
  },
  {
   "cell_type": "code",
   "execution_count": 107,
   "metadata": {},
   "outputs": [],
   "source": [
    "X = dataset[['<CLOSE>', 'H-L','O-C']]\n",
    "y = dataset[['Log Renditen(t+1)']]"
   ]
  },
  {
   "cell_type": "code",
   "execution_count": 108,
   "metadata": {},
   "outputs": [
    {
     "data": {
      "text/html": [
       "<div>\n",
       "<style scoped>\n",
       "    .dataframe tbody tr th:only-of-type {\n",
       "        vertical-align: middle;\n",
       "    }\n",
       "\n",
       "    .dataframe tbody tr th {\n",
       "        vertical-align: top;\n",
       "    }\n",
       "\n",
       "    .dataframe thead th {\n",
       "        text-align: right;\n",
       "    }\n",
       "</style>\n",
       "<table border=\"1\" class=\"dataframe\">\n",
       "  <thead>\n",
       "    <tr style=\"text-align: right;\">\n",
       "      <th></th>\n",
       "      <th>&lt;CLOSE&gt;</th>\n",
       "      <th>H-L</th>\n",
       "      <th>O-C</th>\n",
       "    </tr>\n",
       "  </thead>\n",
       "  <tbody>\n",
       "    <tr>\n",
       "      <th>1</th>\n",
       "      <td>169.24</td>\n",
       "      <td>2.42</td>\n",
       "      <td>1.625</td>\n",
       "    </tr>\n",
       "    <tr>\n",
       "      <th>2</th>\n",
       "      <td>168.72</td>\n",
       "      <td>2.07</td>\n",
       "      <td>-0.530</td>\n",
       "    </tr>\n",
       "    <tr>\n",
       "      <th>3</th>\n",
       "      <td>169.56</td>\n",
       "      <td>2.25</td>\n",
       "      <td>0.760</td>\n",
       "    </tr>\n",
       "    <tr>\n",
       "      <th>4</th>\n",
       "      <td>167.71</td>\n",
       "      <td>2.07</td>\n",
       "      <td>-1.760</td>\n",
       "    </tr>\n",
       "    <tr>\n",
       "      <th>5</th>\n",
       "      <td>165.55</td>\n",
       "      <td>2.57</td>\n",
       "      <td>-2.410</td>\n",
       "    </tr>\n",
       "  </tbody>\n",
       "</table>\n",
       "</div>"
      ],
      "text/plain": [
       "   <CLOSE>   H-L    O-C\n",
       "1   169.24  2.42  1.625\n",
       "2   168.72  2.07 -0.530\n",
       "3   169.56  2.25  0.760\n",
       "4   167.71  2.07 -1.760\n",
       "5   165.55  2.57 -2.410"
      ]
     },
     "execution_count": 108,
     "metadata": {},
     "output_type": "execute_result"
    }
   ],
   "source": [
    "X.head()"
   ]
  },
  {
   "cell_type": "code",
   "execution_count": 109,
   "metadata": {},
   "outputs": [
    {
     "data": {
      "text/html": [
       "<div>\n",
       "<style scoped>\n",
       "    .dataframe tbody tr th:only-of-type {\n",
       "        vertical-align: middle;\n",
       "    }\n",
       "\n",
       "    .dataframe tbody tr th {\n",
       "        vertical-align: top;\n",
       "    }\n",
       "\n",
       "    .dataframe thead th {\n",
       "        text-align: right;\n",
       "    }\n",
       "</style>\n",
       "<table border=\"1\" class=\"dataframe\">\n",
       "  <thead>\n",
       "    <tr style=\"text-align: right;\">\n",
       "      <th></th>\n",
       "      <th>Log Renditen(t+1)</th>\n",
       "    </tr>\n",
       "  </thead>\n",
       "  <tbody>\n",
       "    <tr>\n",
       "      <th>1</th>\n",
       "      <td>-0.003077</td>\n",
       "    </tr>\n",
       "    <tr>\n",
       "      <th>2</th>\n",
       "      <td>0.004966</td>\n",
       "    </tr>\n",
       "    <tr>\n",
       "      <th>3</th>\n",
       "      <td>-0.010971</td>\n",
       "    </tr>\n",
       "    <tr>\n",
       "      <th>4</th>\n",
       "      <td>-0.012963</td>\n",
       "    </tr>\n",
       "    <tr>\n",
       "      <th>5</th>\n",
       "      <td>0.013142</td>\n",
       "    </tr>\n",
       "  </tbody>\n",
       "</table>\n",
       "</div>"
      ],
      "text/plain": [
       "   Log Renditen(t+1)\n",
       "1          -0.003077\n",
       "2           0.004966\n",
       "3          -0.010971\n",
       "4          -0.012963\n",
       "5           0.013142"
      ]
     },
     "execution_count": 109,
     "metadata": {},
     "output_type": "execute_result"
    }
   ],
   "source": [
    "y.head()"
   ]
  },
  {
   "cell_type": "code",
   "execution_count": 110,
   "metadata": {},
   "outputs": [],
   "source": [
    "from sklearn.preprocessing import MinMaxScaler\n",
    "scaler = MinMaxScaler(feature_range=(0, 1))\n",
    "X = scaler.fit_transform(X)\n",
    "y = scaler.fit_transform(y)"
   ]
  },
  {
   "cell_type": "code",
   "execution_count": 111,
   "metadata": {},
   "outputs": [],
   "source": [
    "X_train = X[:251]\n",
    "X_test = X[251:]\n",
    "y_train = y[:251]\n",
    "y_test = y[251:]"
   ]
  },
  {
   "cell_type": "code",
   "execution_count": 112,
   "metadata": {},
   "outputs": [
    {
     "name": "stdout",
     "output_type": "stream",
     "text": [
      "251 81\n",
      "251 81\n"
     ]
    }
   ],
   "source": [
    "print(len(X_train), len(X_test))\n",
    "print(len(y_train),len(y_test))"
   ]
  },
  {
   "cell_type": "code",
   "execution_count": 113,
   "metadata": {},
   "outputs": [],
   "source": [
    "from keras.models import Sequential\n",
    "from keras.layers import Dense\n",
    "from keras.layers import Dropout"
   ]
  },
  {
   "cell_type": "code",
   "execution_count": 114,
   "metadata": {},
   "outputs": [],
   "source": [
    "knn = Sequential()\n",
    "knn.add(Dense(units = 12, kernel_initializer = 'uniform', activation = 'relu', input_dim = X.shape[1]))\n",
    "knn.add(Dense(units = 8, kernel_initializer = 'uniform', activation = 'relu'))\n",
    "knn.add(Dense(units = 1, kernel_initializer = 'uniform', activation = 'linear'))"
   ]
  },
  {
   "cell_type": "code",
   "execution_count": 115,
   "metadata": {},
   "outputs": [],
   "source": [
    "knn.compile(optimizer = 'adam', loss = 'mean_squared_error')"
   ]
  },
  {
   "cell_type": "code",
   "execution_count": 116,
   "metadata": {},
   "outputs": [
    {
     "name": "stdout",
     "output_type": "stream",
     "text": [
      "Train on 251 samples, validate on 81 samples\n",
      "Epoch 1/50\n",
      " - 0s - loss: 0.2219 - val_loss: 0.2056\n",
      "Epoch 2/50\n",
      " - 0s - loss: 0.1808 - val_loss: 0.1515\n",
      "Epoch 3/50\n",
      " - 0s - loss: 0.1138 - val_loss: 0.0697\n",
      "Epoch 4/50\n",
      " - 0s - loss: 0.0344 - val_loss: 0.0149\n",
      "Epoch 5/50\n",
      " - 0s - loss: 0.0056 - val_loss: 0.0170\n",
      "Epoch 6/50\n",
      " - 0s - loss: 0.0082 - val_loss: 0.0146\n",
      "Epoch 7/50\n",
      " - 0s - loss: 0.0068 - val_loss: 0.0146\n",
      "Epoch 8/50\n",
      " - 0s - loss: 0.0065 - val_loss: 0.0146\n",
      "Epoch 9/50\n",
      " - 0s - loss: 0.0063 - val_loss: 0.0144\n",
      "Epoch 10/50\n",
      " - 0s - loss: 0.0060 - val_loss: 0.0143\n",
      "Epoch 11/50\n",
      " - 0s - loss: 0.0058 - val_loss: 0.0142\n",
      "Epoch 12/50\n",
      " - 0s - loss: 0.0056 - val_loss: 0.0141\n",
      "Epoch 13/50\n",
      " - 0s - loss: 0.0054 - val_loss: 0.0140\n",
      "Epoch 14/50\n",
      " - 0s - loss: 0.0052 - val_loss: 0.0139\n",
      "Epoch 15/50\n",
      " - 0s - loss: 0.0051 - val_loss: 0.0138\n",
      "Epoch 16/50\n",
      " - 0s - loss: 0.0049 - val_loss: 0.0137\n",
      "Epoch 17/50\n",
      " - 0s - loss: 0.0048 - val_loss: 0.0136\n",
      "Epoch 18/50\n",
      " - 0s - loss: 0.0047 - val_loss: 0.0135\n",
      "Epoch 19/50\n",
      " - 0s - loss: 0.0046 - val_loss: 0.0135\n",
      "Epoch 20/50\n",
      " - 0s - loss: 0.0045 - val_loss: 0.0134\n",
      "Epoch 21/50\n",
      " - 0s - loss: 0.0044 - val_loss: 0.0133\n",
      "Epoch 22/50\n",
      " - 0s - loss: 0.0043 - val_loss: 0.0132\n",
      "Epoch 23/50\n",
      " - 0s - loss: 0.0043 - val_loss: 0.0132\n",
      "Epoch 24/50\n",
      " - 0s - loss: 0.0042 - val_loss: 0.0131\n",
      "Epoch 25/50\n",
      " - 0s - loss: 0.0042 - val_loss: 0.0130\n",
      "Epoch 26/50\n",
      " - 0s - loss: 0.0041 - val_loss: 0.0130\n",
      "Epoch 27/50\n",
      " - 0s - loss: 0.0041 - val_loss: 0.0129\n",
      "Epoch 28/50\n",
      " - 0s - loss: 0.0041 - val_loss: 0.0129\n",
      "Epoch 29/50\n",
      " - 0s - loss: 0.0040 - val_loss: 0.0128\n",
      "Epoch 30/50\n",
      " - 0s - loss: 0.0040 - val_loss: 0.0128\n",
      "Epoch 31/50\n",
      " - 0s - loss: 0.0040 - val_loss: 0.0128\n",
      "Epoch 32/50\n",
      " - 0s - loss: 0.0040 - val_loss: 0.0127\n",
      "Epoch 33/50\n",
      " - 0s - loss: 0.0040 - val_loss: 0.0127\n",
      "Epoch 34/50\n",
      " - 0s - loss: 0.0040 - val_loss: 0.0127\n",
      "Epoch 35/50\n",
      " - 0s - loss: 0.0040 - val_loss: 0.0127\n",
      "Epoch 36/50\n",
      " - 0s - loss: 0.0040 - val_loss: 0.0126\n",
      "Epoch 37/50\n",
      " - 0s - loss: 0.0040 - val_loss: 0.0126\n",
      "Epoch 38/50\n",
      " - 0s - loss: 0.0040 - val_loss: 0.0126\n",
      "Epoch 39/50\n",
      " - 0s - loss: 0.0040 - val_loss: 0.0126\n",
      "Epoch 40/50\n",
      " - 0s - loss: 0.0040 - val_loss: 0.0126\n",
      "Epoch 41/50\n",
      " - 0s - loss: 0.0040 - val_loss: 0.0125\n",
      "Epoch 42/50\n",
      " - 0s - loss: 0.0039 - val_loss: 0.0125\n",
      "Epoch 43/50\n",
      " - 0s - loss: 0.0039 - val_loss: 0.0125\n",
      "Epoch 44/50\n",
      " - 0s - loss: 0.0039 - val_loss: 0.0125\n",
      "Epoch 45/50\n",
      " - 0s - loss: 0.0039 - val_loss: 0.0125\n",
      "Epoch 46/50\n",
      " - 0s - loss: 0.0039 - val_loss: 0.0125\n",
      "Epoch 47/50\n",
      " - 0s - loss: 0.0039 - val_loss: 0.0125\n",
      "Epoch 48/50\n",
      " - 0s - loss: 0.0039 - val_loss: 0.0125\n",
      "Epoch 49/50\n",
      " - 0s - loss: 0.0039 - val_loss: 0.0125\n",
      "Epoch 50/50\n",
      " - 0s - loss: 0.0039 - val_loss: 0.0125\n"
     ]
    }
   ],
   "source": [
    "hist = knn.fit(X_train, y_train, batch_size = 10, epochs = 50, validation_data=(X_test, y_test), verbose=2, shuffle=False)"
   ]
  },
  {
   "cell_type": "code",
   "execution_count": 117,
   "metadata": {},
   "outputs": [
    {
     "data": {
      "image/svg+xml": [
       "<svg height=\"78pt\" viewBox=\"0.00 0.00 654.00 78.00\" width=\"654pt\" xmlns=\"http://www.w3.org/2000/svg\" xmlns:xlink=\"http://www.w3.org/1999/xlink\">\n",
       "<g class=\"graph\" id=\"graph0\" transform=\"scale(1 1) rotate(0) translate(4 74)\">\n",
       "<title>G</title>\n",
       "<polygon fill=\"white\" points=\"-4,4 -4,-74 650,-74 650,4 -4,4\" stroke=\"none\"/>\n",
       "<!-- 2801201529576 -->\n",
       "<g class=\"node\" id=\"node1\"><title>2801201529576</title>\n",
       "<polygon fill=\"none\" points=\"140,-0.5 140,-69.5 287,-69.5 287,-0.5 140,-0.5\" stroke=\"black\"/>\n",
       "<text font-family=\"Times New Roman,serif\" font-size=\"14.00\" text-anchor=\"middle\" x=\"213.5\" y=\"-54.3\">dense_10: Dense</text>\n",
       "<polyline fill=\"none\" points=\"140,-46.5 287,-46.5 \" stroke=\"black\"/>\n",
       "<text font-family=\"Times New Roman,serif\" font-size=\"14.00\" text-anchor=\"middle\" x=\"174.5\" y=\"-31.3\">input:</text>\n",
       "<polyline fill=\"none\" points=\"209,-23.5 209,-46.5 \" stroke=\"black\"/>\n",
       "<text font-family=\"Times New Roman,serif\" font-size=\"14.00\" text-anchor=\"middle\" x=\"248\" y=\"-31.3\">output:</text>\n",
       "<polyline fill=\"none\" points=\"140,-23.5 287,-23.5 \" stroke=\"black\"/>\n",
       "<text font-family=\"Times New Roman,serif\" font-size=\"14.00\" text-anchor=\"middle\" x=\"175\" y=\"-8.3\">(None, 3)</text>\n",
       "<polyline fill=\"none\" points=\"210,-0.5 210,-23.5 \" stroke=\"black\"/>\n",
       "<text font-family=\"Times New Roman,serif\" font-size=\"14.00\" text-anchor=\"middle\" x=\"248.5\" y=\"-8.3\">(None, 12)</text>\n",
       "</g>\n",
       "<!-- 2801161675216 -->\n",
       "<g class=\"node\" id=\"node2\"><title>2801161675216</title>\n",
       "<polygon fill=\"none\" points=\"323,-0.5 323,-69.5 470,-69.5 470,-0.5 323,-0.5\" stroke=\"black\"/>\n",
       "<text font-family=\"Times New Roman,serif\" font-size=\"14.00\" text-anchor=\"middle\" x=\"396.5\" y=\"-54.3\">dense_11: Dense</text>\n",
       "<polyline fill=\"none\" points=\"323,-46.5 470,-46.5 \" stroke=\"black\"/>\n",
       "<text font-family=\"Times New Roman,serif\" font-size=\"14.00\" text-anchor=\"middle\" x=\"357.5\" y=\"-31.3\">input:</text>\n",
       "<polyline fill=\"none\" points=\"392,-23.5 392,-46.5 \" stroke=\"black\"/>\n",
       "<text font-family=\"Times New Roman,serif\" font-size=\"14.00\" text-anchor=\"middle\" x=\"431\" y=\"-31.3\">output:</text>\n",
       "<polyline fill=\"none\" points=\"323,-23.5 470,-23.5 \" stroke=\"black\"/>\n",
       "<text font-family=\"Times New Roman,serif\" font-size=\"14.00\" text-anchor=\"middle\" x=\"361.5\" y=\"-8.3\">(None, 12)</text>\n",
       "<polyline fill=\"none\" points=\"400,-0.5 400,-23.5 \" stroke=\"black\"/>\n",
       "<text font-family=\"Times New Roman,serif\" font-size=\"14.00\" text-anchor=\"middle\" x=\"435\" y=\"-8.3\">(None, 8)</text>\n",
       "</g>\n",
       "<!-- 2801201529576&#45;&gt;2801161675216 -->\n",
       "<g class=\"edge\" id=\"edge2\"><title>2801201529576-&gt;2801161675216</title>\n",
       "<path d=\"M287.077,-35C295.559,-35 304.261,-35 312.867,-35\" fill=\"none\" stroke=\"black\"/>\n",
       "<polygon fill=\"black\" points=\"312.907,-38.5001 322.907,-35 312.907,-31.5001 312.907,-38.5001\" stroke=\"black\"/>\n",
       "</g>\n",
       "<!-- 2801201455400 -->\n",
       "<g class=\"node\" id=\"node3\"><title>2801201455400</title>\n",
       "<polygon fill=\"none\" points=\"506,-0.5 506,-69.5 646,-69.5 646,-0.5 506,-0.5\" stroke=\"black\"/>\n",
       "<text font-family=\"Times New Roman,serif\" font-size=\"14.00\" text-anchor=\"middle\" x=\"576\" y=\"-54.3\">dense_12: Dense</text>\n",
       "<polyline fill=\"none\" points=\"506,-46.5 646,-46.5 \" stroke=\"black\"/>\n",
       "<text font-family=\"Times New Roman,serif\" font-size=\"14.00\" text-anchor=\"middle\" x=\"538.5\" y=\"-31.3\">input:</text>\n",
       "<polyline fill=\"none\" points=\"571,-23.5 571,-46.5 \" stroke=\"black\"/>\n",
       "<text font-family=\"Times New Roman,serif\" font-size=\"14.00\" text-anchor=\"middle\" x=\"608.5\" y=\"-31.3\">output:</text>\n",
       "<polyline fill=\"none\" points=\"506,-23.5 646,-23.5 \" stroke=\"black\"/>\n",
       "<text font-family=\"Times New Roman,serif\" font-size=\"14.00\" text-anchor=\"middle\" x=\"541\" y=\"-8.3\">(None, 8)</text>\n",
       "<polyline fill=\"none\" points=\"576,-0.5 576,-23.5 \" stroke=\"black\"/>\n",
       "<text font-family=\"Times New Roman,serif\" font-size=\"14.00\" text-anchor=\"middle\" x=\"611\" y=\"-8.3\">(None, 1)</text>\n",
       "</g>\n",
       "<!-- 2801161675216&#45;&gt;2801201455400 -->\n",
       "<g class=\"edge\" id=\"edge3\"><title>2801161675216-&gt;2801201455400</title>\n",
       "<path d=\"M470.208,-35C478.58,-35 487.149,-35 495.604,-35\" fill=\"none\" stroke=\"black\"/>\n",
       "<polygon fill=\"black\" points=\"495.839,-38.5001 505.839,-35 495.839,-31.5001 495.839,-38.5001\" stroke=\"black\"/>\n",
       "</g>\n",
       "<!-- 2801201532768 -->\n",
       "<g class=\"node\" id=\"node4\"><title>2801201532768</title>\n",
       "<polygon fill=\"none\" points=\"0,-17 0,-53 104,-53 104,-17 0,-17\" stroke=\"black\"/>\n",
       "<text font-family=\"Times New Roman,serif\" font-size=\"14.00\" text-anchor=\"middle\" x=\"52\" y=\"-31.3\">2801201532768</text>\n",
       "</g>\n",
       "<!-- 2801201532768&#45;&gt;2801201529576 -->\n",
       "<g class=\"edge\" id=\"edge1\"><title>2801201532768-&gt;2801201529576</title>\n",
       "<path d=\"M104.345,-35C112.461,-35 121.029,-35 129.646,-35\" fill=\"none\" stroke=\"black\"/>\n",
       "<polygon fill=\"black\" points=\"129.759,-38.5001 139.759,-35 129.758,-31.5001 129.759,-38.5001\" stroke=\"black\"/>\n",
       "</g>\n",
       "</g>\n",
       "</svg>"
      ],
      "text/plain": [
       "<IPython.core.display.SVG object>"
      ]
     },
     "execution_count": 117,
     "metadata": {},
     "output_type": "execute_result"
    }
   ],
   "source": [
    "from IPython.display import SVG\n",
    "from keras.utils.vis_utils import model_to_dot\n",
    "SVG(model_to_dot(knn, show_shapes=True, rankdir='LR').create(prog='dot', format='svg'))"
   ]
  },
  {
   "cell_type": "code",
   "execution_count": 118,
   "metadata": {},
   "outputs": [
    {
     "data": {
      "image/png": "[encoded data removed]",
      "text/plain": [
       "<matplotlib.figure.Figure at 0x28c34c84828>"
      ]
     },
     "metadata": {},
     "output_type": "display_data"
    }
   ],
   "source": [
    "# plot history\n",
    "pyplot.plot(hist.history['loss'], label='train')\n",
    "pyplot.plot(hist.history['val_loss'], label='test')\n",
    "pyplot.title('KNN: Lossfunktion der IBM Log Renditen')\n",
    "pyplot.legend()\n",
    "pyplot.show()"
   ]
  },
  {
   "cell_type": "code",
   "execution_count": 119,
   "metadata": {},
   "outputs": [],
   "source": [
    "y_pred = knn.predict(X_test)\n",
    "#y_pred\n",
    "#y_test"
   ]
  },
  {
   "cell_type": "code",
   "execution_count": 120,
   "metadata": {},
   "outputs": [
    {
     "data": {
      "image/png": "[encoded data removed]",
      "text/plain": [
       "<matplotlib.figure.Figure at 0x28c34c992b0>"
      ]
     },
     "metadata": {},
     "output_type": "display_data"
    }
   ],
   "source": [
    "import matplotlib.pyplot as plt\n",
    "plt.figure(figsize=(10,5))\n",
    "plt.plot(y_test, color='deepskyblue', label='IBM Log Renditen')\n",
    "plt.plot(y_pred , color='g', label='Prognose Log Renditen')\n",
    "plt.title('KNN: Prognose vs wahrer Renditen-Wert der IBM Aktie')\n",
    "plt.legend()\n",
    "plt.show()"
   ]
  },
  {
   "cell_type": "code",
   "execution_count": 121,
   "metadata": {},
   "outputs": [],
   "source": [
    "#y_test"
   ]
  },
  {
   "cell_type": "code",
   "execution_count": 122,
   "metadata": {},
   "outputs": [],
   "source": [
    "#y_pred"
   ]
  },
  {
   "cell_type": "code",
   "execution_count": 123,
   "metadata": {},
   "outputs": [
    {
     "name": "stdout",
     "output_type": "stream",
     "text": [
      "Test MSE: 0.0125\n",
      "Test RMSE: 0.1116\n"
     ]
    }
   ],
   "source": [
    "from math import sqrt\n",
    "from sklearn.metrics import mean_squared_error\n",
    "\n",
    "mse = mean_squared_error(y_test, y_pred)\n",
    "print('Test MSE: %.4f' % mse)\n",
    "\n",
    "rmse = sqrt(mean_squared_error(y_test, y_pred))\n",
    "print('Test RMSE: %.4f' % rmse)"
   ]
  },
  {
   "cell_type": "code",
   "execution_count": 124,
   "metadata": {},
   "outputs": [],
   "source": [
    "LP_knn_log_return=open(\"C:\\\\BÜSRA\\\\Uni\\\\Master\\\\Pflichtfächer\\\\Projekt Simulation SS 18\\\\Output\\\\Langzeit Output\\\\LP_KNN_Log_Returns.txt\",'w')\n",
    "print(y_test,file=LP_knn_log_return)\n",
    "LP_knn_log_return.close()"
   ]
  },
  {
   "cell_type": "code",
   "execution_count": 125,
   "metadata": {},
   "outputs": [],
   "source": [
    "LP_knn_output_log_return=open(\"C:\\\\BÜSRA\\\\Uni\\\\Master\\\\Pflichtfächer\\\\Projekt Simulation SS 18\\\\Output\\\\Langzeit Output\\\\LP_KNN_Log_Returns_output.txt\",'w')\n",
    "print(y_pred,file=LP_knn_output_log_return)\n",
    "LP_knn_output_log_return.close()"
   ]
  }
 ],
 "metadata": {
  "kernelspec": {
   "display_name": "Python 3",
   "language": "python",
   "name": "python3"
  },
  "language_info": {
   "codemirror_mode": {
    "name": "ipython",
    "version": 3
   },
   "file_extension": ".py",
   "mimetype": "text/x-python",
   "name": "python",
   "nbconvert_exporter": "python",
   "pygments_lexer": "ipython3",
   "version": "3.5.4"
  }
 },
 "nbformat": 4,
 "nbformat_minor": 2
}
