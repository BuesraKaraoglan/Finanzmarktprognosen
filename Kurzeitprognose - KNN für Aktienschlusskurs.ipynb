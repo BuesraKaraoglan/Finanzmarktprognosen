{
 "cells": [
  {
   "cell_type": "code",
   "execution_count": 199,
   "metadata": {},
   "outputs": [],
   "source": [
    "import numpy as np\n",
    "import pandas as pd\n",
    "import talib \n",
    "import tensorflow\n",
    "import keras"
   ]
  },
  {
   "cell_type": "code",
   "execution_count": 200,
   "metadata": {},
   "outputs": [],
   "source": [
    "import random\n",
    "random.seed(1234)"
   ]
  },
  {
   "cell_type": "code",
   "execution_count": 201,
   "metadata": {},
   "outputs": [
    {
     "data": {
      "text/html": [
       "<div>\n",
       "<style scoped>\n",
       "    .dataframe tbody tr th:only-of-type {\n",
       "        vertical-align: middle;\n",
       "    }\n",
       "\n",
       "    .dataframe tbody tr th {\n",
       "        vertical-align: top;\n",
       "    }\n",
       "\n",
       "    .dataframe thead th {\n",
       "        text-align: right;\n",
       "    }\n",
       "</style>\n",
       "<table border=\"1\" class=\"dataframe\">\n",
       "  <thead>\n",
       "    <tr style=\"text-align: right;\">\n",
       "      <th></th>\n",
       "      <th>&lt;OPEN&gt;</th>\n",
       "      <th>&lt;HIGH&gt;</th>\n",
       "      <th>&lt;LOW&gt;</th>\n",
       "      <th>&lt;CLOSE&gt;</th>\n",
       "    </tr>\n",
       "  </thead>\n",
       "  <tbody>\n",
       "    <tr>\n",
       "      <th>21</th>\n",
       "      <td>163.20</td>\n",
       "      <td>164.13</td>\n",
       "      <td>161.94</td>\n",
       "      <td>162.43</td>\n",
       "    </tr>\n",
       "    <tr>\n",
       "      <th>22</th>\n",
       "      <td>161.34</td>\n",
       "      <td>161.79</td>\n",
       "      <td>158.87</td>\n",
       "      <td>158.94</td>\n",
       "    </tr>\n",
       "    <tr>\n",
       "      <th>23</th>\n",
       "      <td>158.10</td>\n",
       "      <td>158.37</td>\n",
       "      <td>150.00</td>\n",
       "      <td>152.55</td>\n",
       "    </tr>\n",
       "    <tr>\n",
       "      <th>24</th>\n",
       "      <td>150.52</td>\n",
       "      <td>155.48</td>\n",
       "      <td>149.25</td>\n",
       "      <td>155.31</td>\n",
       "    </tr>\n",
       "    <tr>\n",
       "      <th>25</th>\n",
       "      <td>154.16</td>\n",
       "      <td>155.28</td>\n",
       "      <td>153.43</td>\n",
       "      <td>153.95</td>\n",
       "    </tr>\n",
       "    <tr>\n",
       "      <th>26</th>\n",
       "      <td>152.32</td>\n",
       "      <td>153.16</td>\n",
       "      <td>147.50</td>\n",
       "      <td>147.54</td>\n",
       "    </tr>\n",
       "    <tr>\n",
       "      <th>27</th>\n",
       "      <td>148.84</td>\n",
       "      <td>150.54</td>\n",
       "      <td>144.41</td>\n",
       "      <td>149.51</td>\n",
       "    </tr>\n",
       "    <tr>\n",
       "      <th>28</th>\n",
       "      <td>150.81</td>\n",
       "      <td>152.39</td>\n",
       "      <td>150.30</td>\n",
       "      <td>151.41</td>\n",
       "    </tr>\n",
       "    <tr>\n",
       "      <th>29</th>\n",
       "      <td>150.90</td>\n",
       "      <td>151.15</td>\n",
       "      <td>149.65</td>\n",
       "      <td>150.79</td>\n",
       "    </tr>\n",
       "  </tbody>\n",
       "</table>\n",
       "</div>"
      ],
      "text/plain": [
       "    <OPEN>  <HIGH>   <LOW>  <CLOSE>\n",
       "21  163.20  164.13  161.94   162.43\n",
       "22  161.34  161.79  158.87   158.94\n",
       "23  158.10  158.37  150.00   152.55\n",
       "24  150.52  155.48  149.25   155.31\n",
       "25  154.16  155.28  153.43   153.95\n",
       "26  152.32  153.16  147.50   147.54\n",
       "27  148.84  150.54  144.41   149.51\n",
       "28  150.81  152.39  150.30   151.41\n",
       "29  150.90  151.15  149.65   150.79"
      ]
     },
     "execution_count": 201,
     "metadata": {},
     "output_type": "execute_result"
    }
   ],
   "source": [
    "dataset = pd.read_csv('C:\\\\BÜSRA\\\\Uni\\\\Master\\\\Pflichtfächer\\\\Projekt Simulation SS 18\\\\DATEN IBM\\\\ohlc_jan18_feb18.csv')\n",
    "dataset = dataset.dropna()\n",
    "dataset = dataset[['<OPEN>','<HIGH>','<LOW>','<CLOSE>']]\n",
    "dataset = dataset[21:30] ### ab 21 da hier CLOSE\n",
    "dataset"
   ]
  },
  {
   "cell_type": "code",
   "execution_count": 202,
   "metadata": {},
   "outputs": [
    {
     "data": {
      "image/png": "[encoded data removed]",
      "text/plain": [
       "<matplotlib.figure.Figure at 0x17a184147b8>"
      ]
     },
     "metadata": {},
     "output_type": "display_data"
    }
   ],
   "source": [
    "from matplotlib import pyplot\n",
    "%matplotlib inline\n",
    "datz = dataset['<CLOSE>']\n",
    "#datz.head()\n",
    "pyplot.figure(figsize=(10,5))\n",
    "pyplot.plot(datz, color='r')\n",
    "pyplot.title('IBM Aktienkursverlauf von 01.02.2018 bis 13.02.2018')\n",
    "pyplot.show()"
   ]
  },
  {
   "cell_type": "code",
   "execution_count": 203,
   "metadata": {},
   "outputs": [],
   "source": [
    "dataset['H-L'] = dataset['<HIGH>'] - dataset['<LOW>']\n",
    "dataset['O-C'] = dataset['<CLOSE>'] - dataset['<OPEN>']\n",
    "dataset['Close(t+1)']=dataset['<CLOSE>'].shift(-1)\n",
    "#dataset[\"Preis_differenz\"]=dataset['<CLOSE>']-dataset['<CLOSE>'].shift(-1)"
   ]
  },
  {
   "cell_type": "code",
   "execution_count": 204,
   "metadata": {},
   "outputs": [
    {
     "data": {
      "text/html": [
       "<div>\n",
       "<style scoped>\n",
       "    .dataframe tbody tr th:only-of-type {\n",
       "        vertical-align: middle;\n",
       "    }\n",
       "\n",
       "    .dataframe tbody tr th {\n",
       "        vertical-align: top;\n",
       "    }\n",
       "\n",
       "    .dataframe thead th {\n",
       "        text-align: right;\n",
       "    }\n",
       "</style>\n",
       "<table border=\"1\" class=\"dataframe\">\n",
       "  <thead>\n",
       "    <tr style=\"text-align: right;\">\n",
       "      <th></th>\n",
       "      <th>&lt;OPEN&gt;</th>\n",
       "      <th>&lt;HIGH&gt;</th>\n",
       "      <th>&lt;LOW&gt;</th>\n",
       "      <th>&lt;CLOSE&gt;</th>\n",
       "      <th>H-L</th>\n",
       "      <th>O-C</th>\n",
       "      <th>Close(t+1)</th>\n",
       "    </tr>\n",
       "  </thead>\n",
       "  <tbody>\n",
       "    <tr>\n",
       "      <th>21</th>\n",
       "      <td>163.20</td>\n",
       "      <td>164.13</td>\n",
       "      <td>161.94</td>\n",
       "      <td>162.43</td>\n",
       "      <td>2.19</td>\n",
       "      <td>-0.77</td>\n",
       "      <td>158.94</td>\n",
       "    </tr>\n",
       "    <tr>\n",
       "      <th>22</th>\n",
       "      <td>161.34</td>\n",
       "      <td>161.79</td>\n",
       "      <td>158.87</td>\n",
       "      <td>158.94</td>\n",
       "      <td>2.92</td>\n",
       "      <td>-2.40</td>\n",
       "      <td>152.55</td>\n",
       "    </tr>\n",
       "    <tr>\n",
       "      <th>23</th>\n",
       "      <td>158.10</td>\n",
       "      <td>158.37</td>\n",
       "      <td>150.00</td>\n",
       "      <td>152.55</td>\n",
       "      <td>8.37</td>\n",
       "      <td>-5.55</td>\n",
       "      <td>155.31</td>\n",
       "    </tr>\n",
       "    <tr>\n",
       "      <th>24</th>\n",
       "      <td>150.52</td>\n",
       "      <td>155.48</td>\n",
       "      <td>149.25</td>\n",
       "      <td>155.31</td>\n",
       "      <td>6.23</td>\n",
       "      <td>4.79</td>\n",
       "      <td>153.95</td>\n",
       "    </tr>\n",
       "    <tr>\n",
       "      <th>25</th>\n",
       "      <td>154.16</td>\n",
       "      <td>155.28</td>\n",
       "      <td>153.43</td>\n",
       "      <td>153.95</td>\n",
       "      <td>1.85</td>\n",
       "      <td>-0.21</td>\n",
       "      <td>147.54</td>\n",
       "    </tr>\n",
       "    <tr>\n",
       "      <th>26</th>\n",
       "      <td>152.32</td>\n",
       "      <td>153.16</td>\n",
       "      <td>147.50</td>\n",
       "      <td>147.54</td>\n",
       "      <td>5.66</td>\n",
       "      <td>-4.78</td>\n",
       "      <td>149.51</td>\n",
       "    </tr>\n",
       "    <tr>\n",
       "      <th>27</th>\n",
       "      <td>148.84</td>\n",
       "      <td>150.54</td>\n",
       "      <td>144.41</td>\n",
       "      <td>149.51</td>\n",
       "      <td>6.13</td>\n",
       "      <td>0.67</td>\n",
       "      <td>151.41</td>\n",
       "    </tr>\n",
       "    <tr>\n",
       "      <th>28</th>\n",
       "      <td>150.81</td>\n",
       "      <td>152.39</td>\n",
       "      <td>150.30</td>\n",
       "      <td>151.41</td>\n",
       "      <td>2.09</td>\n",
       "      <td>0.60</td>\n",
       "      <td>150.79</td>\n",
       "    </tr>\n",
       "  </tbody>\n",
       "</table>\n",
       "</div>"
      ],
      "text/plain": [
       "    <OPEN>  <HIGH>   <LOW>  <CLOSE>   H-L   O-C  Close(t+1)\n",
       "21  163.20  164.13  161.94   162.43  2.19 -0.77      158.94\n",
       "22  161.34  161.79  158.87   158.94  2.92 -2.40      152.55\n",
       "23  158.10  158.37  150.00   152.55  8.37 -5.55      155.31\n",
       "24  150.52  155.48  149.25   155.31  6.23  4.79      153.95\n",
       "25  154.16  155.28  153.43   153.95  1.85 -0.21      147.54\n",
       "26  152.32  153.16  147.50   147.54  5.66 -4.78      149.51\n",
       "27  148.84  150.54  144.41   149.51  6.13  0.67      151.41\n",
       "28  150.81  152.39  150.30   151.41  2.09  0.60      150.79"
      ]
     },
     "execution_count": 204,
     "metadata": {},
     "output_type": "execute_result"
    }
   ],
   "source": [
    "dataset = dataset.dropna()\n",
    "dataset = dataset.dropna(thresh=2)\n",
    "dataset"
   ]
  },
  {
   "cell_type": "code",
   "execution_count": 205,
   "metadata": {},
   "outputs": [],
   "source": [
    "X = dataset[['<CLOSE>', 'H-L','O-C',]]\n",
    "y = dataset[['Close(t+1)']]"
   ]
  },
  {
   "cell_type": "code",
   "execution_count": 206,
   "metadata": {},
   "outputs": [
    {
     "data": {
      "text/html": [
       "<div>\n",
       "<style scoped>\n",
       "    .dataframe tbody tr th:only-of-type {\n",
       "        vertical-align: middle;\n",
       "    }\n",
       "\n",
       "    .dataframe tbody tr th {\n",
       "        vertical-align: top;\n",
       "    }\n",
       "\n",
       "    .dataframe thead th {\n",
       "        text-align: right;\n",
       "    }\n",
       "</style>\n",
       "<table border=\"1\" class=\"dataframe\">\n",
       "  <thead>\n",
       "    <tr style=\"text-align: right;\">\n",
       "      <th></th>\n",
       "      <th>&lt;CLOSE&gt;</th>\n",
       "      <th>H-L</th>\n",
       "      <th>O-C</th>\n",
       "    </tr>\n",
       "  </thead>\n",
       "  <tbody>\n",
       "    <tr>\n",
       "      <th>21</th>\n",
       "      <td>162.43</td>\n",
       "      <td>2.19</td>\n",
       "      <td>-0.77</td>\n",
       "    </tr>\n",
       "    <tr>\n",
       "      <th>22</th>\n",
       "      <td>158.94</td>\n",
       "      <td>2.92</td>\n",
       "      <td>-2.40</td>\n",
       "    </tr>\n",
       "    <tr>\n",
       "      <th>23</th>\n",
       "      <td>152.55</td>\n",
       "      <td>8.37</td>\n",
       "      <td>-5.55</td>\n",
       "    </tr>\n",
       "    <tr>\n",
       "      <th>24</th>\n",
       "      <td>155.31</td>\n",
       "      <td>6.23</td>\n",
       "      <td>4.79</td>\n",
       "    </tr>\n",
       "    <tr>\n",
       "      <th>25</th>\n",
       "      <td>153.95</td>\n",
       "      <td>1.85</td>\n",
       "      <td>-0.21</td>\n",
       "    </tr>\n",
       "    <tr>\n",
       "      <th>26</th>\n",
       "      <td>147.54</td>\n",
       "      <td>5.66</td>\n",
       "      <td>-4.78</td>\n",
       "    </tr>\n",
       "    <tr>\n",
       "      <th>27</th>\n",
       "      <td>149.51</td>\n",
       "      <td>6.13</td>\n",
       "      <td>0.67</td>\n",
       "    </tr>\n",
       "    <tr>\n",
       "      <th>28</th>\n",
       "      <td>151.41</td>\n",
       "      <td>2.09</td>\n",
       "      <td>0.60</td>\n",
       "    </tr>\n",
       "  </tbody>\n",
       "</table>\n",
       "</div>"
      ],
      "text/plain": [
       "    <CLOSE>   H-L   O-C\n",
       "21   162.43  2.19 -0.77\n",
       "22   158.94  2.92 -2.40\n",
       "23   152.55  8.37 -5.55\n",
       "24   155.31  6.23  4.79\n",
       "25   153.95  1.85 -0.21\n",
       "26   147.54  5.66 -4.78\n",
       "27   149.51  6.13  0.67\n",
       "28   151.41  2.09  0.60"
      ]
     },
     "execution_count": 206,
     "metadata": {},
     "output_type": "execute_result"
    }
   ],
   "source": [
    "X"
   ]
  },
  {
   "cell_type": "code",
   "execution_count": 207,
   "metadata": {},
   "outputs": [
    {
     "data": {
      "text/html": [
       "<div>\n",
       "<style scoped>\n",
       "    .dataframe tbody tr th:only-of-type {\n",
       "        vertical-align: middle;\n",
       "    }\n",
       "\n",
       "    .dataframe tbody tr th {\n",
       "        vertical-align: top;\n",
       "    }\n",
       "\n",
       "    .dataframe thead th {\n",
       "        text-align: right;\n",
       "    }\n",
       "</style>\n",
       "<table border=\"1\" class=\"dataframe\">\n",
       "  <thead>\n",
       "    <tr style=\"text-align: right;\">\n",
       "      <th></th>\n",
       "      <th>Close(t+1)</th>\n",
       "    </tr>\n",
       "  </thead>\n",
       "  <tbody>\n",
       "    <tr>\n",
       "      <th>21</th>\n",
       "      <td>158.94</td>\n",
       "    </tr>\n",
       "    <tr>\n",
       "      <th>22</th>\n",
       "      <td>152.55</td>\n",
       "    </tr>\n",
       "    <tr>\n",
       "      <th>23</th>\n",
       "      <td>155.31</td>\n",
       "    </tr>\n",
       "    <tr>\n",
       "      <th>24</th>\n",
       "      <td>153.95</td>\n",
       "    </tr>\n",
       "    <tr>\n",
       "      <th>25</th>\n",
       "      <td>147.54</td>\n",
       "    </tr>\n",
       "    <tr>\n",
       "      <th>26</th>\n",
       "      <td>149.51</td>\n",
       "    </tr>\n",
       "    <tr>\n",
       "      <th>27</th>\n",
       "      <td>151.41</td>\n",
       "    </tr>\n",
       "    <tr>\n",
       "      <th>28</th>\n",
       "      <td>150.79</td>\n",
       "    </tr>\n",
       "  </tbody>\n",
       "</table>\n",
       "</div>"
      ],
      "text/plain": [
       "    Close(t+1)\n",
       "21      158.94\n",
       "22      152.55\n",
       "23      155.31\n",
       "24      153.95\n",
       "25      147.54\n",
       "26      149.51\n",
       "27      151.41\n",
       "28      150.79"
      ]
     },
     "execution_count": 207,
     "metadata": {},
     "output_type": "execute_result"
    }
   ],
   "source": [
    "y"
   ]
  },
  {
   "cell_type": "code",
   "execution_count": 208,
   "metadata": {},
   "outputs": [],
   "source": [
    "from sklearn.preprocessing import MinMaxScaler\n",
    "scaler = MinMaxScaler(feature_range=(0, 1))\n",
    "X = scaler.fit_transform(X)\n",
    "y = scaler.fit_transform(y)"
   ]
  },
  {
   "cell_type": "code",
   "execution_count": 209,
   "metadata": {},
   "outputs": [],
   "source": [
    "# ab 01.02.18 als training  --- 6 Tage\n",
    "# 12.02 und 13.02 vorhersagen --- da t+1\n",
    "X_train = X[:6]\n",
    "X_test = X[6:]\n",
    "y_train = y[:6]\n",
    "y_test = y[6:]"
   ]
  },
  {
   "cell_type": "code",
   "execution_count": 210,
   "metadata": {},
   "outputs": [
    {
     "name": "stdout",
     "output_type": "stream",
     "text": [
      "6 2\n",
      "6 2\n"
     ]
    }
   ],
   "source": [
    "print(len(X_train), len(X_test))\n",
    "print(len(y_train),len(y_test))"
   ]
  },
  {
   "cell_type": "code",
   "execution_count": 211,
   "metadata": {},
   "outputs": [],
   "source": [
    "from keras.models import Sequential\n",
    "from keras.layers import Dense\n",
    "from keras.layers import Dropout"
   ]
  },
  {
   "cell_type": "code",
   "execution_count": 212,
   "metadata": {},
   "outputs": [],
   "source": [
    "knn = Sequential()\n",
    "knn.add(Dense(units = 12, kernel_initializer = 'uniform', activation = 'relu', input_dim = X.shape[1]))\n",
    "knn.add(Dense(units = 8, kernel_initializer = 'uniform', activation = 'relu'))\n",
    "knn.add(Dense(units = 1, kernel_initializer = 'uniform', activation = 'linear'))"
   ]
  },
  {
   "cell_type": "code",
   "execution_count": 213,
   "metadata": {},
   "outputs": [],
   "source": [
    "knn.compile(optimizer = 'adam', loss = 'mean_squared_error')"
   ]
  },
  {
   "cell_type": "code",
   "execution_count": 214,
   "metadata": {},
   "outputs": [
    {
     "name": "stdout",
     "output_type": "stream",
     "text": [
      "Train on 6 samples, validate on 2 samples\n",
      "Epoch 1/50\n",
      " - 0s - loss: 0.3340 - val_loss: 0.0976\n",
      "Epoch 2/50\n",
      " - 0s - loss: 0.3329 - val_loss: 0.0970\n",
      "Epoch 3/50\n",
      " - 0s - loss: 0.3319 - val_loss: 0.0963\n",
      "Epoch 4/50\n",
      " - 0s - loss: 0.3310 - val_loss: 0.0957\n",
      "Epoch 5/50\n",
      " - 0s - loss: 0.3300 - val_loss: 0.0950\n",
      "Epoch 6/50\n",
      " - 0s - loss: 0.3290 - val_loss: 0.0944\n",
      "Epoch 7/50\n",
      " - 0s - loss: 0.3280 - val_loss: 0.0938\n",
      "Epoch 8/50\n",
      " - 0s - loss: 0.3270 - val_loss: 0.0931\n",
      "Epoch 9/50\n",
      " - 0s - loss: 0.3260 - val_loss: 0.0925\n",
      "Epoch 10/50\n",
      " - 0s - loss: 0.3250 - val_loss: 0.0919\n",
      "Epoch 11/50\n",
      " - 0s - loss: 0.3241 - val_loss: 0.0912\n",
      "Epoch 12/50\n",
      " - 0s - loss: 0.3231 - val_loss: 0.0906\n",
      "Epoch 13/50\n",
      " - 0s - loss: 0.3221 - val_loss: 0.0899\n",
      "Epoch 14/50\n",
      " - 0s - loss: 0.3211 - val_loss: 0.0893\n",
      "Epoch 15/50\n",
      " - 0s - loss: 0.3201 - val_loss: 0.0887\n",
      "Epoch 16/50\n",
      " - 0s - loss: 0.3191 - val_loss: 0.0880\n",
      "Epoch 17/50\n",
      " - 0s - loss: 0.3181 - val_loss: 0.0874\n",
      "Epoch 18/50\n",
      " - 0s - loss: 0.3171 - val_loss: 0.0867\n",
      "Epoch 19/50\n",
      " - 0s - loss: 0.3161 - val_loss: 0.0861\n",
      "Epoch 20/50\n",
      " - 0s - loss: 0.3151 - val_loss: 0.0855\n",
      "Epoch 21/50\n",
      " - 0s - loss: 0.3141 - val_loss: 0.0848\n",
      "Epoch 22/50\n",
      " - 0s - loss: 0.3131 - val_loss: 0.0842\n",
      "Epoch 23/50\n",
      " - 0s - loss: 0.3121 - val_loss: 0.0836\n",
      "Epoch 24/50\n",
      " - 0s - loss: 0.3110 - val_loss: 0.0829\n",
      "Epoch 25/50\n",
      " - 0s - loss: 0.3100 - val_loss: 0.0823\n",
      "Epoch 26/50\n",
      " - 0s - loss: 0.3090 - val_loss: 0.0816\n",
      "Epoch 27/50\n",
      " - 0s - loss: 0.3080 - val_loss: 0.0810\n",
      "Epoch 28/50\n",
      " - 0s - loss: 0.3070 - val_loss: 0.0803\n",
      "Epoch 29/50\n",
      " - 0s - loss: 0.3059 - val_loss: 0.0797\n",
      "Epoch 30/50\n",
      " - 0s - loss: 0.3049 - val_loss: 0.0791\n",
      "Epoch 31/50\n",
      " - 0s - loss: 0.3038 - val_loss: 0.0784\n",
      "Epoch 32/50\n",
      " - 0s - loss: 0.3028 - val_loss: 0.0778\n",
      "Epoch 33/50\n",
      " - 0s - loss: 0.3018 - val_loss: 0.0771\n",
      "Epoch 34/50\n",
      " - 0s - loss: 0.3007 - val_loss: 0.0765\n",
      "Epoch 35/50\n",
      " - 0s - loss: 0.2996 - val_loss: 0.0758\n",
      "Epoch 36/50\n",
      " - 0s - loss: 0.2986 - val_loss: 0.0751\n",
      "Epoch 37/50\n",
      " - 0s - loss: 0.2975 - val_loss: 0.0745\n",
      "Epoch 38/50\n",
      " - 0s - loss: 0.2964 - val_loss: 0.0738\n",
      "Epoch 39/50\n",
      " - 0s - loss: 0.2953 - val_loss: 0.0732\n",
      "Epoch 40/50\n",
      " - 0s - loss: 0.2942 - val_loss: 0.0725\n",
      "Epoch 41/50\n",
      " - 0s - loss: 0.2931 - val_loss: 0.0718\n",
      "Epoch 42/50\n",
      " - 0s - loss: 0.2920 - val_loss: 0.0712\n",
      "Epoch 43/50\n",
      " - 0s - loss: 0.2909 - val_loss: 0.0705\n",
      "Epoch 44/50\n",
      " - 0s - loss: 0.2898 - val_loss: 0.0698\n",
      "Epoch 45/50\n",
      " - 0s - loss: 0.2887 - val_loss: 0.0691\n",
      "Epoch 46/50\n",
      " - 0s - loss: 0.2876 - val_loss: 0.0685\n",
      "Epoch 47/50\n",
      " - 0s - loss: 0.2864 - val_loss: 0.0678\n",
      "Epoch 48/50\n",
      " - 0s - loss: 0.2853 - val_loss: 0.0671\n",
      "Epoch 49/50\n",
      " - 0s - loss: 0.2841 - val_loss: 0.0664\n",
      "Epoch 50/50\n",
      " - 0s - loss: 0.2829 - val_loss: 0.0657\n"
     ]
    }
   ],
   "source": [
    "hist = knn.fit(X_train, y_train, batch_size = 10, epochs = 50, validation_data=(X_test, y_test), verbose=2, shuffle=False)"
   ]
  },
  {
   "cell_type": "code",
   "execution_count": 215,
   "metadata": {},
   "outputs": [
    {
     "data": {
      "image/svg+xml": [
       "<svg height=\"78pt\" viewBox=\"0.00 0.00 654.00 78.00\" width=\"654pt\" xmlns=\"http://www.w3.org/2000/svg\" xmlns:xlink=\"http://www.w3.org/1999/xlink\">\n",
       "<g class=\"graph\" id=\"graph0\" transform=\"scale(1 1) rotate(0) translate(4 74)\">\n",
       "<title>G</title>\n",
       "<polygon fill=\"white\" points=\"-4,4 -4,-74 650,-74 650,4 -4,4\" stroke=\"none\"/>\n",
       "<!-- 1623924260536 -->\n",
       "<g class=\"node\" id=\"node1\"><title>1623924260536</title>\n",
       "<polygon fill=\"none\" points=\"140,-0.5 140,-69.5 287,-69.5 287,-0.5 140,-0.5\" stroke=\"black\"/>\n",
       "<text font-family=\"Times New Roman,serif\" font-size=\"14.00\" text-anchor=\"middle\" x=\"213.5\" y=\"-54.3\">dense_22: Dense</text>\n",
       "<polyline fill=\"none\" points=\"140,-46.5 287,-46.5 \" stroke=\"black\"/>\n",
       "<text font-family=\"Times New Roman,serif\" font-size=\"14.00\" text-anchor=\"middle\" x=\"174.5\" y=\"-31.3\">input:</text>\n",
       "<polyline fill=\"none\" points=\"209,-23.5 209,-46.5 \" stroke=\"black\"/>\n",
       "<text font-family=\"Times New Roman,serif\" font-size=\"14.00\" text-anchor=\"middle\" x=\"248\" y=\"-31.3\">output:</text>\n",
       "<polyline fill=\"none\" points=\"140,-23.5 287,-23.5 \" stroke=\"black\"/>\n",
       "<text font-family=\"Times New Roman,serif\" font-size=\"14.00\" text-anchor=\"middle\" x=\"175\" y=\"-8.3\">(None, 3)</text>\n",
       "<polyline fill=\"none\" points=\"210,-0.5 210,-23.5 \" stroke=\"black\"/>\n",
       "<text font-family=\"Times New Roman,serif\" font-size=\"14.00\" text-anchor=\"middle\" x=\"248.5\" y=\"-8.3\">(None, 12)</text>\n",
       "</g>\n",
       "<!-- 1623924260144 -->\n",
       "<g class=\"node\" id=\"node2\"><title>1623924260144</title>\n",
       "<polygon fill=\"none\" points=\"323,-0.5 323,-69.5 470,-69.5 470,-0.5 323,-0.5\" stroke=\"black\"/>\n",
       "<text font-family=\"Times New Roman,serif\" font-size=\"14.00\" text-anchor=\"middle\" x=\"396.5\" y=\"-54.3\">dense_23: Dense</text>\n",
       "<polyline fill=\"none\" points=\"323,-46.5 470,-46.5 \" stroke=\"black\"/>\n",
       "<text font-family=\"Times New Roman,serif\" font-size=\"14.00\" text-anchor=\"middle\" x=\"357.5\" y=\"-31.3\">input:</text>\n",
       "<polyline fill=\"none\" points=\"392,-23.5 392,-46.5 \" stroke=\"black\"/>\n",
       "<text font-family=\"Times New Roman,serif\" font-size=\"14.00\" text-anchor=\"middle\" x=\"431\" y=\"-31.3\">output:</text>\n",
       "<polyline fill=\"none\" points=\"323,-23.5 470,-23.5 \" stroke=\"black\"/>\n",
       "<text font-family=\"Times New Roman,serif\" font-size=\"14.00\" text-anchor=\"middle\" x=\"361.5\" y=\"-8.3\">(None, 12)</text>\n",
       "<polyline fill=\"none\" points=\"400,-0.5 400,-23.5 \" stroke=\"black\"/>\n",
       "<text font-family=\"Times New Roman,serif\" font-size=\"14.00\" text-anchor=\"middle\" x=\"435\" y=\"-8.3\">(None, 8)</text>\n",
       "</g>\n",
       "<!-- 1623924260536&#45;&gt;1623924260144 -->\n",
       "<g class=\"edge\" id=\"edge2\"><title>1623924260536-&gt;1623924260144</title>\n",
       "<path d=\"M287.077,-35C295.559,-35 304.261,-35 312.867,-35\" fill=\"none\" stroke=\"black\"/>\n",
       "<polygon fill=\"black\" points=\"312.907,-38.5001 322.907,-35 312.907,-31.5001 312.907,-38.5001\" stroke=\"black\"/>\n",
       "</g>\n",
       "<!-- 1623904401112 -->\n",
       "<g class=\"node\" id=\"node3\"><title>1623904401112</title>\n",
       "<polygon fill=\"none\" points=\"506,-0.5 506,-69.5 646,-69.5 646,-0.5 506,-0.5\" stroke=\"black\"/>\n",
       "<text font-family=\"Times New Roman,serif\" font-size=\"14.00\" text-anchor=\"middle\" x=\"576\" y=\"-54.3\">dense_24: Dense</text>\n",
       "<polyline fill=\"none\" points=\"506,-46.5 646,-46.5 \" stroke=\"black\"/>\n",
       "<text font-family=\"Times New Roman,serif\" font-size=\"14.00\" text-anchor=\"middle\" x=\"538.5\" y=\"-31.3\">input:</text>\n",
       "<polyline fill=\"none\" points=\"571,-23.5 571,-46.5 \" stroke=\"black\"/>\n",
       "<text font-family=\"Times New Roman,serif\" font-size=\"14.00\" text-anchor=\"middle\" x=\"608.5\" y=\"-31.3\">output:</text>\n",
       "<polyline fill=\"none\" points=\"506,-23.5 646,-23.5 \" stroke=\"black\"/>\n",
       "<text font-family=\"Times New Roman,serif\" font-size=\"14.00\" text-anchor=\"middle\" x=\"541\" y=\"-8.3\">(None, 8)</text>\n",
       "<polyline fill=\"none\" points=\"576,-0.5 576,-23.5 \" stroke=\"black\"/>\n",
       "<text font-family=\"Times New Roman,serif\" font-size=\"14.00\" text-anchor=\"middle\" x=\"611\" y=\"-8.3\">(None, 1)</text>\n",
       "</g>\n",
       "<!-- 1623924260144&#45;&gt;1623904401112 -->\n",
       "<g class=\"edge\" id=\"edge3\"><title>1623924260144-&gt;1623904401112</title>\n",
       "<path d=\"M470.208,-35C478.58,-35 487.149,-35 495.604,-35\" fill=\"none\" stroke=\"black\"/>\n",
       "<polygon fill=\"black\" points=\"495.839,-38.5001 505.839,-35 495.839,-31.5001 495.839,-38.5001\" stroke=\"black\"/>\n",
       "</g>\n",
       "<!-- 1623924260648 -->\n",
       "<g class=\"node\" id=\"node4\"><title>1623924260648</title>\n",
       "<polygon fill=\"none\" points=\"0,-17 0,-53 104,-53 104,-17 0,-17\" stroke=\"black\"/>\n",
       "<text font-family=\"Times New Roman,serif\" font-size=\"14.00\" text-anchor=\"middle\" x=\"52\" y=\"-31.3\">1623924260648</text>\n",
       "</g>\n",
       "<!-- 1623924260648&#45;&gt;1623924260536 -->\n",
       "<g class=\"edge\" id=\"edge1\"><title>1623924260648-&gt;1623924260536</title>\n",
       "<path d=\"M104.345,-35C112.461,-35 121.029,-35 129.646,-35\" fill=\"none\" stroke=\"black\"/>\n",
       "<polygon fill=\"black\" points=\"129.759,-38.5001 139.759,-35 129.758,-31.5001 129.759,-38.5001\" stroke=\"black\"/>\n",
       "</g>\n",
       "</g>\n",
       "</svg>"
      ],
      "text/plain": [
       "<IPython.core.display.SVG object>"
      ]
     },
     "execution_count": 215,
     "metadata": {},
     "output_type": "execute_result"
    }
   ],
   "source": [
    "from IPython.display import SVG\n",
    "from keras.utils.vis_utils import model_to_dot\n",
    "SVG(model_to_dot(knn, show_shapes=True, rankdir='LR').create(prog='dot', format='svg'))"
   ]
  },
  {
   "cell_type": "code",
   "execution_count": 216,
   "metadata": {},
   "outputs": [
    {
     "data": {
      "image/png": "[encoded data removed]",
      "text/plain": [
       "<matplotlib.figure.Figure at 0x17a1abf79e8>"
      ]
     },
     "metadata": {},
     "output_type": "display_data"
    }
   ],
   "source": [
    "# plot history\n",
    "pyplot.plot(hist.history['loss'], label='train')\n",
    "pyplot.plot(hist.history['val_loss'], label='test')\n",
    "pyplot.title('KNN: Lossfunktion der Aktienschlusskurs')\n",
    "pyplot.legend()\n",
    "pyplot.show()"
   ]
  },
  {
   "cell_type": "code",
   "execution_count": 217,
   "metadata": {},
   "outputs": [],
   "source": [
    "y_pred = knn.predict(X_test)\n",
    "#y_pred\n",
    "#y_test"
   ]
  },
  {
   "cell_type": "code",
   "execution_count": 218,
   "metadata": {},
   "outputs": [
    {
     "data": {
      "image/png": "[encoded data removed]",
      "text/plain": [
       "<matplotlib.figure.Figure at 0x17a1abe8f98>"
      ]
     },
     "metadata": {},
     "output_type": "display_data"
    }
   ],
   "source": [
    "import matplotlib.pyplot as plt\n",
    "plt.figure(figsize=(10,5))\n",
    "plt.plot(y_test, color='r', label='Tatsächliche Wert')\n",
    "plt.plot(y_pred , color='g', label='Prognose')\n",
    "plt.title('KNN: Prognose vs wahrer Wert der IBM Aktie')\n",
    "plt.legend()\n",
    "plt.show()"
   ]
  },
  {
   "cell_type": "code",
   "execution_count": 219,
   "metadata": {},
   "outputs": [
    {
     "data": {
      "text/plain": [
       "array([[0.33947368],\n",
       "       [0.28508772]])"
      ]
     },
     "execution_count": 219,
     "metadata": {},
     "output_type": "execute_result"
    }
   ],
   "source": [
    "y_test"
   ]
  },
  {
   "cell_type": "code",
   "execution_count": 220,
   "metadata": {},
   "outputs": [
    {
     "data": {
      "text/plain": [
       "array([[0.05745273],\n",
       "       [0.05727556]], dtype=float32)"
      ]
     },
     "execution_count": 220,
     "metadata": {},
     "output_type": "execute_result"
    }
   ],
   "source": [
    "y_pred"
   ]
  },
  {
   "cell_type": "code",
   "execution_count": 221,
   "metadata": {},
   "outputs": [
    {
     "name": "stdout",
     "output_type": "stream",
     "text": [
      "Test MSE: 0.0657\n",
      "Test RMSE: 0.2564\n"
     ]
    }
   ],
   "source": [
    "from math import sqrt\n",
    "from sklearn.metrics import mean_squared_error\n",
    "\n",
    "mse = mean_squared_error(y_test, y_pred)\n",
    "print('Test MSE: %.4f' % mse)\n",
    "\n",
    "rmse = sqrt(mean_squared_error(y_test, y_pred))\n",
    "print('Test RMSE: %.4f' % rmse)"
   ]
  },
  {
   "cell_type": "code",
   "execution_count": 222,
   "metadata": {},
   "outputs": [],
   "source": [
    "KP_knn_close=open(\"C:\\\\BÜSRA\\\\Uni\\\\Master\\\\Pflichtfächer\\\\Projekt Simulation SS 18\\\\Output\\\\Kurzzeit Output\\\\KP_KNN_Close.txt\",'w')\n",
    "print(y_test,file=KP_knn_close)\n",
    "KP_knn_close.close()"
   ]
  },
  {
   "cell_type": "code",
   "execution_count": 223,
   "metadata": {},
   "outputs": [],
   "source": [
    "KP_knn_output_close=open(\"C:\\\\BÜSRA\\\\Uni\\\\Master\\\\Pflichtfächer\\\\Projekt Simulation SS 18\\\\Output\\\\Kurzzeit Output\\\\KP_KNN_Close_output.txt\",'w')\n",
    "print(y_pred,file=KP_knn_output_close)\n",
    "KP_knn_output_close.close()"
   ]
  },
  {
   "cell_type": "code",
   "execution_count": null,
   "metadata": {},
   "outputs": [],
   "source": []
  }
 ],
 "metadata": {
  "kernelspec": {
   "display_name": "Python 3",
   "language": "python",
   "name": "python3"
  },
  "language_info": {
   "codemirror_mode": {
    "name": "ipython",
    "version": 3
   },
   "file_extension": ".py",
   "mimetype": "text/x-python",
   "name": "python",
   "nbconvert_exporter": "python",
   "pygments_lexer": "ipython3",
   "version": "3.5.4"
  }
 },
 "nbformat": 4,
 "nbformat_minor": 2
}
