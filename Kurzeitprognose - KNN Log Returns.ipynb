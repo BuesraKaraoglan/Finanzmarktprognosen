{
 "cells": [
  {
   "cell_type": "code",
   "execution_count": 275,
   "metadata": {},
   "outputs": [],
   "source": [
    "import numpy as np\n",
    "import pandas as pd\n",
    "import talib \n",
    "import tensorflow\n",
    "import keras"
   ]
  },
  {
   "cell_type": "code",
   "execution_count": 276,
   "metadata": {},
   "outputs": [],
   "source": [
    "import random\n",
    "random.seed(1234)"
   ]
  },
  {
   "cell_type": "code",
   "execution_count": 277,
   "metadata": {},
   "outputs": [
    {
     "data": {
      "text/html": [
       "<div>\n",
       "<style scoped>\n",
       "    .dataframe tbody tr th:only-of-type {\n",
       "        vertical-align: middle;\n",
       "    }\n",
       "\n",
       "    .dataframe tbody tr th {\n",
       "        vertical-align: top;\n",
       "    }\n",
       "\n",
       "    .dataframe thead th {\n",
       "        text-align: right;\n",
       "    }\n",
       "</style>\n",
       "<table border=\"1\" class=\"dataframe\">\n",
       "  <thead>\n",
       "    <tr style=\"text-align: right;\">\n",
       "      <th></th>\n",
       "      <th>&lt;OPEN&gt;</th>\n",
       "      <th>&lt;HIGH&gt;</th>\n",
       "      <th>&lt;LOW&gt;</th>\n",
       "      <th>&lt;CLOSE&gt;</th>\n",
       "    </tr>\n",
       "  </thead>\n",
       "  <tbody>\n",
       "    <tr>\n",
       "      <th>20</th>\n",
       "      <td>163.74</td>\n",
       "      <td>164.98</td>\n",
       "      <td>162.80</td>\n",
       "      <td>163.74</td>\n",
       "    </tr>\n",
       "    <tr>\n",
       "      <th>21</th>\n",
       "      <td>163.20</td>\n",
       "      <td>164.13</td>\n",
       "      <td>161.94</td>\n",
       "      <td>162.43</td>\n",
       "    </tr>\n",
       "    <tr>\n",
       "      <th>22</th>\n",
       "      <td>161.34</td>\n",
       "      <td>161.79</td>\n",
       "      <td>158.87</td>\n",
       "      <td>158.94</td>\n",
       "    </tr>\n",
       "    <tr>\n",
       "      <th>23</th>\n",
       "      <td>158.10</td>\n",
       "      <td>158.37</td>\n",
       "      <td>150.00</td>\n",
       "      <td>152.55</td>\n",
       "    </tr>\n",
       "    <tr>\n",
       "      <th>24</th>\n",
       "      <td>150.52</td>\n",
       "      <td>155.48</td>\n",
       "      <td>149.25</td>\n",
       "      <td>155.31</td>\n",
       "    </tr>\n",
       "    <tr>\n",
       "      <th>25</th>\n",
       "      <td>154.16</td>\n",
       "      <td>155.28</td>\n",
       "      <td>153.43</td>\n",
       "      <td>153.95</td>\n",
       "    </tr>\n",
       "    <tr>\n",
       "      <th>26</th>\n",
       "      <td>152.32</td>\n",
       "      <td>153.16</td>\n",
       "      <td>147.50</td>\n",
       "      <td>147.54</td>\n",
       "    </tr>\n",
       "    <tr>\n",
       "      <th>27</th>\n",
       "      <td>148.84</td>\n",
       "      <td>150.54</td>\n",
       "      <td>144.41</td>\n",
       "      <td>149.51</td>\n",
       "    </tr>\n",
       "    <tr>\n",
       "      <th>28</th>\n",
       "      <td>150.81</td>\n",
       "      <td>152.39</td>\n",
       "      <td>150.30</td>\n",
       "      <td>151.41</td>\n",
       "    </tr>\n",
       "    <tr>\n",
       "      <th>29</th>\n",
       "      <td>150.90</td>\n",
       "      <td>151.15</td>\n",
       "      <td>149.65</td>\n",
       "      <td>150.79</td>\n",
       "    </tr>\n",
       "  </tbody>\n",
       "</table>\n",
       "</div>"
      ],
      "text/plain": [
       "    <OPEN>  <HIGH>   <LOW>  <CLOSE>\n",
       "20  163.74  164.98  162.80   163.74\n",
       "21  163.20  164.13  161.94   162.43\n",
       "22  161.34  161.79  158.87   158.94\n",
       "23  158.10  158.37  150.00   152.55\n",
       "24  150.52  155.48  149.25   155.31\n",
       "25  154.16  155.28  153.43   153.95\n",
       "26  152.32  153.16  147.50   147.54\n",
       "27  148.84  150.54  144.41   149.51\n",
       "28  150.81  152.39  150.30   151.41\n",
       "29  150.90  151.15  149.65   150.79"
      ]
     },
     "execution_count": 277,
     "metadata": {},
     "output_type": "execute_result"
    }
   ],
   "source": [
    "dataset = pd.read_csv('C:\\\\BÜSRA\\\\Uni\\\\Master\\\\Pflichtfächer\\\\Projekt Simulation SS 18\\\\DATEN IBM\\\\ohlc_jan18_feb18.csv')\n",
    "dataset = dataset.dropna()\n",
    "dataset = dataset[['<OPEN>','<HIGH>','<LOW>','<CLOSE>']]\n",
    "dataset = dataset[20:30] # ab 01.02.2018 bis 12.02.2018 -- Zeilen 21:31 -- Training: [20:27] , Test: [27:30]\n",
    "dataset"
   ]
  },
  {
   "cell_type": "code",
   "execution_count": 278,
   "metadata": {},
   "outputs": [],
   "source": [
    "dataset['H-L'] = dataset['<HIGH>'] - dataset['<LOW>']\n",
    "dataset['O-C'] = dataset['<CLOSE>'] - dataset['<OPEN>']\n",
    "dataset['Log Renditen'] = np.log(dataset['<CLOSE>']/dataset['<CLOSE>'].shift(1))\n",
    "dataset['Log Renditen(t+1)']=dataset['Log Renditen'].shift(-1)"
   ]
  },
  {
   "cell_type": "code",
   "execution_count": 279,
   "metadata": {},
   "outputs": [
    {
     "data": {
      "text/html": [
       "<div>\n",
       "<style scoped>\n",
       "    .dataframe tbody tr th:only-of-type {\n",
       "        vertical-align: middle;\n",
       "    }\n",
       "\n",
       "    .dataframe tbody tr th {\n",
       "        vertical-align: top;\n",
       "    }\n",
       "\n",
       "    .dataframe thead th {\n",
       "        text-align: right;\n",
       "    }\n",
       "</style>\n",
       "<table border=\"1\" class=\"dataframe\">\n",
       "  <thead>\n",
       "    <tr style=\"text-align: right;\">\n",
       "      <th></th>\n",
       "      <th>&lt;OPEN&gt;</th>\n",
       "      <th>&lt;HIGH&gt;</th>\n",
       "      <th>&lt;LOW&gt;</th>\n",
       "      <th>&lt;CLOSE&gt;</th>\n",
       "      <th>H-L</th>\n",
       "      <th>O-C</th>\n",
       "      <th>Log Renditen</th>\n",
       "      <th>Log Renditen(t+1)</th>\n",
       "    </tr>\n",
       "  </thead>\n",
       "  <tbody>\n",
       "    <tr>\n",
       "      <th>21</th>\n",
       "      <td>163.20</td>\n",
       "      <td>164.13</td>\n",
       "      <td>161.94</td>\n",
       "      <td>162.43</td>\n",
       "      <td>2.19</td>\n",
       "      <td>-0.77</td>\n",
       "      <td>-0.008033</td>\n",
       "      <td>-0.021720</td>\n",
       "    </tr>\n",
       "    <tr>\n",
       "      <th>22</th>\n",
       "      <td>161.34</td>\n",
       "      <td>161.79</td>\n",
       "      <td>158.87</td>\n",
       "      <td>158.94</td>\n",
       "      <td>2.92</td>\n",
       "      <td>-2.40</td>\n",
       "      <td>-0.021720</td>\n",
       "      <td>-0.041034</td>\n",
       "    </tr>\n",
       "    <tr>\n",
       "      <th>23</th>\n",
       "      <td>158.10</td>\n",
       "      <td>158.37</td>\n",
       "      <td>150.00</td>\n",
       "      <td>152.55</td>\n",
       "      <td>8.37</td>\n",
       "      <td>-5.55</td>\n",
       "      <td>-0.041034</td>\n",
       "      <td>0.017931</td>\n",
       "    </tr>\n",
       "    <tr>\n",
       "      <th>24</th>\n",
       "      <td>150.52</td>\n",
       "      <td>155.48</td>\n",
       "      <td>149.25</td>\n",
       "      <td>155.31</td>\n",
       "      <td>6.23</td>\n",
       "      <td>4.79</td>\n",
       "      <td>0.017931</td>\n",
       "      <td>-0.008795</td>\n",
       "    </tr>\n",
       "    <tr>\n",
       "      <th>25</th>\n",
       "      <td>154.16</td>\n",
       "      <td>155.28</td>\n",
       "      <td>153.43</td>\n",
       "      <td>153.95</td>\n",
       "      <td>1.85</td>\n",
       "      <td>-0.21</td>\n",
       "      <td>-0.008795</td>\n",
       "      <td>-0.042529</td>\n",
       "    </tr>\n",
       "    <tr>\n",
       "      <th>26</th>\n",
       "      <td>152.32</td>\n",
       "      <td>153.16</td>\n",
       "      <td>147.50</td>\n",
       "      <td>147.54</td>\n",
       "      <td>5.66</td>\n",
       "      <td>-4.78</td>\n",
       "      <td>-0.042529</td>\n",
       "      <td>0.013264</td>\n",
       "    </tr>\n",
       "    <tr>\n",
       "      <th>27</th>\n",
       "      <td>148.84</td>\n",
       "      <td>150.54</td>\n",
       "      <td>144.41</td>\n",
       "      <td>149.51</td>\n",
       "      <td>6.13</td>\n",
       "      <td>0.67</td>\n",
       "      <td>0.013264</td>\n",
       "      <td>0.012628</td>\n",
       "    </tr>\n",
       "    <tr>\n",
       "      <th>28</th>\n",
       "      <td>150.81</td>\n",
       "      <td>152.39</td>\n",
       "      <td>150.30</td>\n",
       "      <td>151.41</td>\n",
       "      <td>2.09</td>\n",
       "      <td>0.60</td>\n",
       "      <td>0.012628</td>\n",
       "      <td>-0.004103</td>\n",
       "    </tr>\n",
       "  </tbody>\n",
       "</table>\n",
       "</div>"
      ],
      "text/plain": [
       "    <OPEN>  <HIGH>   <LOW>  <CLOSE>   H-L   O-C  Log Renditen  \\\n",
       "21  163.20  164.13  161.94   162.43  2.19 -0.77     -0.008033   \n",
       "22  161.34  161.79  158.87   158.94  2.92 -2.40     -0.021720   \n",
       "23  158.10  158.37  150.00   152.55  8.37 -5.55     -0.041034   \n",
       "24  150.52  155.48  149.25   155.31  6.23  4.79      0.017931   \n",
       "25  154.16  155.28  153.43   153.95  1.85 -0.21     -0.008795   \n",
       "26  152.32  153.16  147.50   147.54  5.66 -4.78     -0.042529   \n",
       "27  148.84  150.54  144.41   149.51  6.13  0.67      0.013264   \n",
       "28  150.81  152.39  150.30   151.41  2.09  0.60      0.012628   \n",
       "\n",
       "    Log Renditen(t+1)  \n",
       "21          -0.021720  \n",
       "22          -0.041034  \n",
       "23           0.017931  \n",
       "24          -0.008795  \n",
       "25          -0.042529  \n",
       "26           0.013264  \n",
       "27           0.012628  \n",
       "28          -0.004103  "
      ]
     },
     "execution_count": 279,
     "metadata": {},
     "output_type": "execute_result"
    }
   ],
   "source": [
    "dataset = dataset.dropna()\n",
    "dataset = dataset.dropna(thresh=2)\n",
    "dataset"
   ]
  },
  {
   "cell_type": "code",
   "execution_count": 280,
   "metadata": {},
   "outputs": [
    {
     "data": {
      "image/png": "[encoded data removed]",
      "text/plain": [
       "<matplotlib.figure.Figure at 0x24069343da0>"
      ]
     },
     "metadata": {},
     "output_type": "display_data"
    }
   ],
   "source": [
    "from matplotlib import pyplot\n",
    "%matplotlib inline\n",
    "datz = dataset['Log Renditen']\n",
    "#datz.head()\n",
    "pyplot.figure(figsize=(10,5))\n",
    "pyplot.plot(datz, color='b')\n",
    "pyplot.title('IBM Log Renditen von 01.02.2018 bis 13.02.2018')\n",
    "pyplot.show()"
   ]
  },
  {
   "cell_type": "code",
   "execution_count": 281,
   "metadata": {},
   "outputs": [],
   "source": [
    "X = dataset[['<CLOSE>', 'H-L','O-C']]\n",
    "y = dataset[['Log Renditen(t+1)']]"
   ]
  },
  {
   "cell_type": "code",
   "execution_count": 282,
   "metadata": {},
   "outputs": [
    {
     "data": {
      "text/html": [
       "<div>\n",
       "<style scoped>\n",
       "    .dataframe tbody tr th:only-of-type {\n",
       "        vertical-align: middle;\n",
       "    }\n",
       "\n",
       "    .dataframe tbody tr th {\n",
       "        vertical-align: top;\n",
       "    }\n",
       "\n",
       "    .dataframe thead th {\n",
       "        text-align: right;\n",
       "    }\n",
       "</style>\n",
       "<table border=\"1\" class=\"dataframe\">\n",
       "  <thead>\n",
       "    <tr style=\"text-align: right;\">\n",
       "      <th></th>\n",
       "      <th>&lt;CLOSE&gt;</th>\n",
       "      <th>H-L</th>\n",
       "      <th>O-C</th>\n",
       "    </tr>\n",
       "  </thead>\n",
       "  <tbody>\n",
       "    <tr>\n",
       "      <th>21</th>\n",
       "      <td>162.43</td>\n",
       "      <td>2.19</td>\n",
       "      <td>-0.77</td>\n",
       "    </tr>\n",
       "    <tr>\n",
       "      <th>22</th>\n",
       "      <td>158.94</td>\n",
       "      <td>2.92</td>\n",
       "      <td>-2.40</td>\n",
       "    </tr>\n",
       "    <tr>\n",
       "      <th>23</th>\n",
       "      <td>152.55</td>\n",
       "      <td>8.37</td>\n",
       "      <td>-5.55</td>\n",
       "    </tr>\n",
       "    <tr>\n",
       "      <th>24</th>\n",
       "      <td>155.31</td>\n",
       "      <td>6.23</td>\n",
       "      <td>4.79</td>\n",
       "    </tr>\n",
       "    <tr>\n",
       "      <th>25</th>\n",
       "      <td>153.95</td>\n",
       "      <td>1.85</td>\n",
       "      <td>-0.21</td>\n",
       "    </tr>\n",
       "    <tr>\n",
       "      <th>26</th>\n",
       "      <td>147.54</td>\n",
       "      <td>5.66</td>\n",
       "      <td>-4.78</td>\n",
       "    </tr>\n",
       "    <tr>\n",
       "      <th>27</th>\n",
       "      <td>149.51</td>\n",
       "      <td>6.13</td>\n",
       "      <td>0.67</td>\n",
       "    </tr>\n",
       "    <tr>\n",
       "      <th>28</th>\n",
       "      <td>151.41</td>\n",
       "      <td>2.09</td>\n",
       "      <td>0.60</td>\n",
       "    </tr>\n",
       "  </tbody>\n",
       "</table>\n",
       "</div>"
      ],
      "text/plain": [
       "    <CLOSE>   H-L   O-C\n",
       "21   162.43  2.19 -0.77\n",
       "22   158.94  2.92 -2.40\n",
       "23   152.55  8.37 -5.55\n",
       "24   155.31  6.23  4.79\n",
       "25   153.95  1.85 -0.21\n",
       "26   147.54  5.66 -4.78\n",
       "27   149.51  6.13  0.67\n",
       "28   151.41  2.09  0.60"
      ]
     },
     "execution_count": 282,
     "metadata": {},
     "output_type": "execute_result"
    }
   ],
   "source": [
    "X"
   ]
  },
  {
   "cell_type": "code",
   "execution_count": 283,
   "metadata": {},
   "outputs": [
    {
     "data": {
      "text/html": [
       "<div>\n",
       "<style scoped>\n",
       "    .dataframe tbody tr th:only-of-type {\n",
       "        vertical-align: middle;\n",
       "    }\n",
       "\n",
       "    .dataframe tbody tr th {\n",
       "        vertical-align: top;\n",
       "    }\n",
       "\n",
       "    .dataframe thead th {\n",
       "        text-align: right;\n",
       "    }\n",
       "</style>\n",
       "<table border=\"1\" class=\"dataframe\">\n",
       "  <thead>\n",
       "    <tr style=\"text-align: right;\">\n",
       "      <th></th>\n",
       "      <th>Log Renditen(t+1)</th>\n",
       "    </tr>\n",
       "  </thead>\n",
       "  <tbody>\n",
       "    <tr>\n",
       "      <th>21</th>\n",
       "      <td>-0.021720</td>\n",
       "    </tr>\n",
       "    <tr>\n",
       "      <th>22</th>\n",
       "      <td>-0.041034</td>\n",
       "    </tr>\n",
       "    <tr>\n",
       "      <th>23</th>\n",
       "      <td>0.017931</td>\n",
       "    </tr>\n",
       "    <tr>\n",
       "      <th>24</th>\n",
       "      <td>-0.008795</td>\n",
       "    </tr>\n",
       "    <tr>\n",
       "      <th>25</th>\n",
       "      <td>-0.042529</td>\n",
       "    </tr>\n",
       "    <tr>\n",
       "      <th>26</th>\n",
       "      <td>0.013264</td>\n",
       "    </tr>\n",
       "    <tr>\n",
       "      <th>27</th>\n",
       "      <td>0.012628</td>\n",
       "    </tr>\n",
       "    <tr>\n",
       "      <th>28</th>\n",
       "      <td>-0.004103</td>\n",
       "    </tr>\n",
       "  </tbody>\n",
       "</table>\n",
       "</div>"
      ],
      "text/plain": [
       "    Log Renditen(t+1)\n",
       "21          -0.021720\n",
       "22          -0.041034\n",
       "23           0.017931\n",
       "24          -0.008795\n",
       "25          -0.042529\n",
       "26           0.013264\n",
       "27           0.012628\n",
       "28          -0.004103"
      ]
     },
     "execution_count": 283,
     "metadata": {},
     "output_type": "execute_result"
    }
   ],
   "source": [
    "y"
   ]
  },
  {
   "cell_type": "code",
   "execution_count": 284,
   "metadata": {},
   "outputs": [],
   "source": [
    "from sklearn.preprocessing import MinMaxScaler\n",
    "scaler = MinMaxScaler(feature_range=(0, 1))\n",
    "X = scaler.fit_transform(X)\n",
    "y = scaler.fit_transform(y)"
   ]
  },
  {
   "cell_type": "code",
   "execution_count": 285,
   "metadata": {},
   "outputs": [
    {
     "data": {
      "text/plain": [
       "array([[1.        , 0.05214724, 0.4622824 ],\n",
       "       [0.76561451, 0.16411043, 0.30464217],\n",
       "       [0.33646743, 1.        , 0.        ],\n",
       "       [0.52182673, 0.67177914, 1.        ],\n",
       "       [0.43049026, 0.        , 0.51644101],\n",
       "       [0.        , 0.58435583, 0.07446809],\n",
       "       [0.13230356, 0.65644172, 0.60154739],\n",
       "       [0.25990598, 0.03680982, 0.59477756]])"
      ]
     },
     "execution_count": 285,
     "metadata": {},
     "output_type": "execute_result"
    }
   ],
   "source": [
    "X"
   ]
  },
  {
   "cell_type": "code",
   "execution_count": 286,
   "metadata": {},
   "outputs": [],
   "source": [
    "# ab 01.02.18 als training  --- 6 Tage\n",
    "# 12.02 und 13.02 vorhersagen --- da t+1\n",
    "X_train = X[:6]\n",
    "X_test = X[6:]\n",
    "y_train = y[:6]\n",
    "y_test = y[6:]"
   ]
  },
  {
   "cell_type": "code",
   "execution_count": 287,
   "metadata": {},
   "outputs": [
    {
     "data": {
      "text/plain": [
       "array([[0.13230356, 0.65644172, 0.60154739],\n",
       "       [0.25990598, 0.03680982, 0.59477756]])"
      ]
     },
     "execution_count": 287,
     "metadata": {},
     "output_type": "execute_result"
    }
   ],
   "source": [
    "X_test"
   ]
  },
  {
   "cell_type": "code",
   "execution_count": 288,
   "metadata": {},
   "outputs": [
    {
     "name": "stdout",
     "output_type": "stream",
     "text": [
      "6 2\n",
      "6 2\n"
     ]
    }
   ],
   "source": [
    "print(len(X_train), len(X_test))\n",
    "print(len(y_train),len(y_test))"
   ]
  },
  {
   "cell_type": "code",
   "execution_count": 289,
   "metadata": {},
   "outputs": [],
   "source": [
    "from keras.models import Sequential\n",
    "from keras.layers import Dense\n",
    "from keras.layers import Dropout"
   ]
  },
  {
   "cell_type": "code",
   "execution_count": 290,
   "metadata": {},
   "outputs": [],
   "source": [
    "knn = Sequential()\n",
    "knn.add(Dense(units = 12, kernel_initializer = 'uniform', activation = 'relu', input_dim = X.shape[1]))\n",
    "knn.add(Dense(units = 8, kernel_initializer = 'uniform', activation = 'relu'))\n",
    "knn.add(Dense(units = 1, kernel_initializer = 'uniform', activation = 'linear'))"
   ]
  },
  {
   "cell_type": "code",
   "execution_count": 291,
   "metadata": {},
   "outputs": [],
   "source": [
    "knn.compile(optimizer = 'adam', loss = 'mean_squared_error')"
   ]
  },
  {
   "cell_type": "code",
   "execution_count": 292,
   "metadata": {},
   "outputs": [
    {
     "name": "stdout",
     "output_type": "stream",
     "text": [
      "Train on 6 samples, validate on 2 samples\n",
      "Epoch 1/50\n",
      " - 0s - loss: 0.3802 - val_loss: 0.6161\n",
      "Epoch 2/50\n",
      " - 0s - loss: 0.3791 - val_loss: 0.6146\n",
      "Epoch 3/50\n",
      " - 0s - loss: 0.3782 - val_loss: 0.6128\n",
      "Epoch 4/50\n",
      " - 0s - loss: 0.3771 - val_loss: 0.6109\n",
      "Epoch 5/50\n",
      " - 0s - loss: 0.3759 - val_loss: 0.6091\n",
      "Epoch 6/50\n",
      " - 0s - loss: 0.3748 - val_loss: 0.6072\n",
      "Epoch 7/50\n",
      " - 0s - loss: 0.3736 - val_loss: 0.6053\n",
      "Epoch 8/50\n",
      " - 0s - loss: 0.3725 - val_loss: 0.6033\n",
      "Epoch 9/50\n",
      " - 0s - loss: 0.3713 - val_loss: 0.6014\n",
      "Epoch 10/50\n",
      " - 0s - loss: 0.3701 - val_loss: 0.5994\n",
      "Epoch 11/50\n",
      " - 0s - loss: 0.3689 - val_loss: 0.5973\n",
      "Epoch 12/50\n",
      " - 0s - loss: 0.3676 - val_loss: 0.5953\n",
      "Epoch 13/50\n",
      " - 0s - loss: 0.3664 - val_loss: 0.5932\n",
      "Epoch 14/50\n",
      " - 0s - loss: 0.3651 - val_loss: 0.5910\n",
      "Epoch 15/50\n",
      " - 0s - loss: 0.3638 - val_loss: 0.5888\n",
      "Epoch 16/50\n",
      " - 0s - loss: 0.3624 - val_loss: 0.5866\n",
      "Epoch 17/50\n",
      " - 0s - loss: 0.3611 - val_loss: 0.5843\n",
      "Epoch 18/50\n",
      " - 0s - loss: 0.3597 - val_loss: 0.5820\n",
      "Epoch 19/50\n",
      " - 0s - loss: 0.3583 - val_loss: 0.5796\n",
      "Epoch 20/50\n",
      " - 0s - loss: 0.3568 - val_loss: 0.5772\n",
      "Epoch 21/50\n",
      " - 0s - loss: 0.3554 - val_loss: 0.5747\n",
      "Epoch 22/50\n",
      " - 0s - loss: 0.3538 - val_loss: 0.5722\n",
      "Epoch 23/50\n",
      " - 0s - loss: 0.3523 - val_loss: 0.5696\n",
      "Epoch 24/50\n",
      " - 0s - loss: 0.3507 - val_loss: 0.5669\n",
      "Epoch 25/50\n",
      " - 0s - loss: 0.3491 - val_loss: 0.5642\n",
      "Epoch 26/50\n",
      " - 0s - loss: 0.3475 - val_loss: 0.5614\n",
      "Epoch 27/50\n",
      " - 0s - loss: 0.3458 - val_loss: 0.5586\n",
      "Epoch 28/50\n",
      " - 0s - loss: 0.3441 - val_loss: 0.5557\n",
      "Epoch 29/50\n",
      " - 0s - loss: 0.3423 - val_loss: 0.5527\n",
      "Epoch 30/50\n",
      " - 0s - loss: 0.3405 - val_loss: 0.5496\n",
      "Epoch 31/50\n",
      " - 0s - loss: 0.3386 - val_loss: 0.5464\n",
      "Epoch 32/50\n",
      " - 0s - loss: 0.3367 - val_loss: 0.5432\n",
      "Epoch 33/50\n",
      " - 0s - loss: 0.3348 - val_loss: 0.5398\n",
      "Epoch 34/50\n",
      " - 0s - loss: 0.3328 - val_loss: 0.5364\n",
      "Epoch 35/50\n",
      " - 0s - loss: 0.3307 - val_loss: 0.5329\n",
      "Epoch 36/50\n",
      " - 0s - loss: 0.3287 - val_loss: 0.5293\n",
      "Epoch 37/50\n",
      " - 0s - loss: 0.3265 - val_loss: 0.5256\n",
      "Epoch 38/50\n",
      " - 0s - loss: 0.3243 - val_loss: 0.5219\n",
      "Epoch 39/50\n",
      " - 0s - loss: 0.3221 - val_loss: 0.5180\n",
      "Epoch 40/50\n",
      " - 0s - loss: 0.3198 - val_loss: 0.5140\n",
      "Epoch 41/50\n",
      " - 0s - loss: 0.3174 - val_loss: 0.5099\n",
      "Epoch 42/50\n",
      " - 0s - loss: 0.3150 - val_loss: 0.5057\n",
      "Epoch 43/50\n",
      " - 0s - loss: 0.3125 - val_loss: 0.5014\n",
      "Epoch 44/50\n",
      " - 0s - loss: 0.3100 - val_loss: 0.4969\n",
      "Epoch 45/50\n",
      " - 0s - loss: 0.3074 - val_loss: 0.4924\n",
      "Epoch 46/50\n",
      " - 0s - loss: 0.3048 - val_loss: 0.4878\n",
      "Epoch 47/50\n",
      " - 0s - loss: 0.3021 - val_loss: 0.4830\n",
      "Epoch 48/50\n",
      " - 0s - loss: 0.2993 - val_loss: 0.4781\n",
      "Epoch 49/50\n",
      " - 0s - loss: 0.2965 - val_loss: 0.4731\n",
      "Epoch 50/50\n",
      " - 0s - loss: 0.2936 - val_loss: 0.4680\n"
     ]
    }
   ],
   "source": [
    "hist = knn.fit(X_train, y_train, batch_size = 10, epochs = 50, validation_data=(X_test, y_test), verbose=2, shuffle=False)"
   ]
  },
  {
   "cell_type": "code",
   "execution_count": 293,
   "metadata": {},
   "outputs": [
    {
     "data": {
      "image/svg+xml": [
       "<svg height=\"78pt\" viewBox=\"0.00 0.00 654.00 78.00\" width=\"654pt\" xmlns=\"http://www.w3.org/2000/svg\" xmlns:xlink=\"http://www.w3.org/1999/xlink\">\n",
       "<g class=\"graph\" id=\"graph0\" transform=\"scale(1 1) rotate(0) translate(4 74)\">\n",
       "<title>G</title>\n",
       "<polygon fill=\"white\" points=\"-4,4 -4,-74 650,-74 650,4 -4,4\" stroke=\"none\"/>\n",
       "<!-- 2475759149912 -->\n",
       "<g class=\"node\" id=\"node1\"><title>2475759149912</title>\n",
       "<polygon fill=\"none\" points=\"140,-0.5 140,-69.5 287,-69.5 287,-0.5 140,-0.5\" stroke=\"black\"/>\n",
       "<text font-family=\"Times New Roman,serif\" font-size=\"14.00\" text-anchor=\"middle\" x=\"213.5\" y=\"-54.3\">dense_23: Dense</text>\n",
       "<polyline fill=\"none\" points=\"140,-46.5 287,-46.5 \" stroke=\"black\"/>\n",
       "<text font-family=\"Times New Roman,serif\" font-size=\"14.00\" text-anchor=\"middle\" x=\"174.5\" y=\"-31.3\">input:</text>\n",
       "<polyline fill=\"none\" points=\"209,-23.5 209,-46.5 \" stroke=\"black\"/>\n",
       "<text font-family=\"Times New Roman,serif\" font-size=\"14.00\" text-anchor=\"middle\" x=\"248\" y=\"-31.3\">output:</text>\n",
       "<polyline fill=\"none\" points=\"140,-23.5 287,-23.5 \" stroke=\"black\"/>\n",
       "<text font-family=\"Times New Roman,serif\" font-size=\"14.00\" text-anchor=\"middle\" x=\"175\" y=\"-8.3\">(None, 3)</text>\n",
       "<polyline fill=\"none\" points=\"210,-0.5 210,-23.5 \" stroke=\"black\"/>\n",
       "<text font-family=\"Times New Roman,serif\" font-size=\"14.00\" text-anchor=\"middle\" x=\"248.5\" y=\"-8.3\">(None, 12)</text>\n",
       "</g>\n",
       "<!-- 2475759150472 -->\n",
       "<g class=\"node\" id=\"node2\"><title>2475759150472</title>\n",
       "<polygon fill=\"none\" points=\"323,-0.5 323,-69.5 470,-69.5 470,-0.5 323,-0.5\" stroke=\"black\"/>\n",
       "<text font-family=\"Times New Roman,serif\" font-size=\"14.00\" text-anchor=\"middle\" x=\"396.5\" y=\"-54.3\">dense_24: Dense</text>\n",
       "<polyline fill=\"none\" points=\"323,-46.5 470,-46.5 \" stroke=\"black\"/>\n",
       "<text font-family=\"Times New Roman,serif\" font-size=\"14.00\" text-anchor=\"middle\" x=\"357.5\" y=\"-31.3\">input:</text>\n",
       "<polyline fill=\"none\" points=\"392,-23.5 392,-46.5 \" stroke=\"black\"/>\n",
       "<text font-family=\"Times New Roman,serif\" font-size=\"14.00\" text-anchor=\"middle\" x=\"431\" y=\"-31.3\">output:</text>\n",
       "<polyline fill=\"none\" points=\"323,-23.5 470,-23.5 \" stroke=\"black\"/>\n",
       "<text font-family=\"Times New Roman,serif\" font-size=\"14.00\" text-anchor=\"middle\" x=\"361.5\" y=\"-8.3\">(None, 12)</text>\n",
       "<polyline fill=\"none\" points=\"400,-0.5 400,-23.5 \" stroke=\"black\"/>\n",
       "<text font-family=\"Times New Roman,serif\" font-size=\"14.00\" text-anchor=\"middle\" x=\"435\" y=\"-8.3\">(None, 8)</text>\n",
       "</g>\n",
       "<!-- 2475759149912&#45;&gt;2475759150472 -->\n",
       "<g class=\"edge\" id=\"edge2\"><title>2475759149912-&gt;2475759150472</title>\n",
       "<path d=\"M287.077,-35C295.559,-35 304.261,-35 312.867,-35\" fill=\"none\" stroke=\"black\"/>\n",
       "<polygon fill=\"black\" points=\"312.907,-38.5001 322.907,-35 312.907,-31.5001 312.907,-38.5001\" stroke=\"black\"/>\n",
       "</g>\n",
       "<!-- 2475759151704 -->\n",
       "<g class=\"node\" id=\"node3\"><title>2475759151704</title>\n",
       "<polygon fill=\"none\" points=\"506,-0.5 506,-69.5 646,-69.5 646,-0.5 506,-0.5\" stroke=\"black\"/>\n",
       "<text font-family=\"Times New Roman,serif\" font-size=\"14.00\" text-anchor=\"middle\" x=\"576\" y=\"-54.3\">dense_25: Dense</text>\n",
       "<polyline fill=\"none\" points=\"506,-46.5 646,-46.5 \" stroke=\"black\"/>\n",
       "<text font-family=\"Times New Roman,serif\" font-size=\"14.00\" text-anchor=\"middle\" x=\"538.5\" y=\"-31.3\">input:</text>\n",
       "<polyline fill=\"none\" points=\"571,-23.5 571,-46.5 \" stroke=\"black\"/>\n",
       "<text font-family=\"Times New Roman,serif\" font-size=\"14.00\" text-anchor=\"middle\" x=\"608.5\" y=\"-31.3\">output:</text>\n",
       "<polyline fill=\"none\" points=\"506,-23.5 646,-23.5 \" stroke=\"black\"/>\n",
       "<text font-family=\"Times New Roman,serif\" font-size=\"14.00\" text-anchor=\"middle\" x=\"541\" y=\"-8.3\">(None, 8)</text>\n",
       "<polyline fill=\"none\" points=\"576,-0.5 576,-23.5 \" stroke=\"black\"/>\n",
       "<text font-family=\"Times New Roman,serif\" font-size=\"14.00\" text-anchor=\"middle\" x=\"611\" y=\"-8.3\">(None, 1)</text>\n",
       "</g>\n",
       "<!-- 2475759150472&#45;&gt;2475759151704 -->\n",
       "<g class=\"edge\" id=\"edge3\"><title>2475759150472-&gt;2475759151704</title>\n",
       "<path d=\"M470.208,-35C478.58,-35 487.149,-35 495.604,-35\" fill=\"none\" stroke=\"black\"/>\n",
       "<polygon fill=\"black\" points=\"495.839,-38.5001 505.839,-35 495.839,-31.5001 495.839,-38.5001\" stroke=\"black\"/>\n",
       "</g>\n",
       "<!-- 2475759228128 -->\n",
       "<g class=\"node\" id=\"node4\"><title>2475759228128</title>\n",
       "<polygon fill=\"none\" points=\"0,-17 0,-53 104,-53 104,-17 0,-17\" stroke=\"black\"/>\n",
       "<text font-family=\"Times New Roman,serif\" font-size=\"14.00\" text-anchor=\"middle\" x=\"52\" y=\"-31.3\">2475759228128</text>\n",
       "</g>\n",
       "<!-- 2475759228128&#45;&gt;2475759149912 -->\n",
       "<g class=\"edge\" id=\"edge1\"><title>2475759228128-&gt;2475759149912</title>\n",
       "<path d=\"M104.345,-35C112.461,-35 121.029,-35 129.646,-35\" fill=\"none\" stroke=\"black\"/>\n",
       "<polygon fill=\"black\" points=\"129.759,-38.5001 139.759,-35 129.758,-31.5001 129.759,-38.5001\" stroke=\"black\"/>\n",
       "</g>\n",
       "</g>\n",
       "</svg>"
      ],
      "text/plain": [
       "<IPython.core.display.SVG object>"
      ]
     },
     "execution_count": 293,
     "metadata": {},
     "output_type": "execute_result"
    }
   ],
   "source": [
    "from IPython.display import SVG\n",
    "from keras.utils.vis_utils import model_to_dot\n",
    "SVG(model_to_dot(knn, show_shapes=True, rankdir='LR').create(prog='dot', format='svg'))"
   ]
  },
  {
   "cell_type": "code",
   "execution_count": 294,
   "metadata": {},
   "outputs": [
    {
     "data": {
      "image/png": "[encoded data removed]",
      "text/plain": [
       "<matplotlib.figure.Figure at 0x2406ee7d0f0>"
      ]
     },
     "metadata": {},
     "output_type": "display_data"
    }
   ],
   "source": [
    "# plot history\n",
    "pyplot.plot(hist.history['loss'], label='train')\n",
    "pyplot.plot(hist.history['val_loss'], label='test')\n",
    "pyplot.title('KNN: Lossfunktion der IBM Log Renditen')\n",
    "pyplot.legend()\n",
    "pyplot.show()"
   ]
  },
  {
   "cell_type": "code",
   "execution_count": 295,
   "metadata": {},
   "outputs": [],
   "source": [
    "y_pred = knn.predict(X_test)\n",
    "#y_pred\n",
    "#y_test"
   ]
  },
  {
   "cell_type": "code",
   "execution_count": 296,
   "metadata": {},
   "outputs": [
    {
     "data": {
      "image/png": "[encoded data removed]",
      "text/plain": [
       "<matplotlib.figure.Figure at 0x2406ee4ba58>"
      ]
     },
     "metadata": {},
     "output_type": "display_data"
    }
   ],
   "source": [
    "import matplotlib.pyplot as plt\n",
    "plt.figure(figsize=(10,5))\n",
    "plt.plot(y_test, color='b', label='IBM Log Renditen')\n",
    "plt.plot(y_pred , color='g', label='Prognose Log Renditen')\n",
    "plt.title('KNN: Prognose vs wahrer Renditen-Wert der IBM Aktie')\n",
    "plt.legend()\n",
    "plt.show()"
   ]
  },
  {
   "cell_type": "code",
   "execution_count": 297,
   "metadata": {},
   "outputs": [
    {
     "data": {
      "text/plain": [
       "array([[0.91229466],\n",
       "       [0.63555693]])"
      ]
     },
     "execution_count": 297,
     "metadata": {},
     "output_type": "execute_result"
    }
   ],
   "source": [
    "y_test"
   ]
  },
  {
   "cell_type": "code",
   "execution_count": 298,
   "metadata": {},
   "outputs": [
    {
     "data": {
      "text/plain": [
       "array([[0.10808008],\n",
       "       [0.0977824 ]], dtype=float32)"
      ]
     },
     "execution_count": 298,
     "metadata": {},
     "output_type": "execute_result"
    }
   ],
   "source": [
    "y_pred"
   ]
  },
  {
   "cell_type": "code",
   "execution_count": 299,
   "metadata": {},
   "outputs": [
    {
     "name": "stdout",
     "output_type": "stream",
     "text": [
      "Test MSE: 0.4680\n",
      "Test RMSE: 0.6841\n"
     ]
    }
   ],
   "source": [
    "from math import sqrt\n",
    "from sklearn.metrics import mean_squared_error\n",
    "\n",
    "mse = mean_squared_error(y_test, y_pred)\n",
    "print('Test MSE: %.4f' % mse)\n",
    "\n",
    "rmse = sqrt(mean_squared_error(y_test, y_pred))\n",
    "print('Test RMSE: %.4f' % rmse)"
   ]
  },
  {
   "cell_type": "code",
   "execution_count": 300,
   "metadata": {},
   "outputs": [],
   "source": [
    "KP_knn_log_return=open(\"C:\\\\BÜSRA\\\\Uni\\\\Master\\\\Pflichtfächer\\\\Projekt Simulation SS 18\\\\Output\\\\Kurzzeit Output\\\\KP_KNN_Log_Returns.txt\",'w')\n",
    "print(y_test,file=KP_knn_log_return)\n",
    "KP_knn_log_return.close()"
   ]
  },
  {
   "cell_type": "code",
   "execution_count": 301,
   "metadata": {},
   "outputs": [],
   "source": [
    "KP_knn_output_log_return=open(\"C:\\\\BÜSRA\\\\Uni\\\\Master\\\\Pflichtfächer\\\\Projekt Simulation SS 18\\\\Output\\\\Kurzzeit Output\\\\KP_KNN_Log_Returns_output.txt\",'w')\n",
    "print(y_pred,file=KP_knn_output_log_return)\n",
    "KP_knn_output_log_return.close()"
   ]
  }
 ],
 "metadata": {
  "kernelspec": {
   "display_name": "Python 3",
   "language": "python",
   "name": "python3"
  },
  "language_info": {
   "codemirror_mode": {
    "name": "ipython",
    "version": 3
   },
   "file_extension": ".py",
   "mimetype": "text/x-python",
   "name": "python",
   "nbconvert_exporter": "python",
   "pygments_lexer": "ipython3",
   "version": "3.5.4"
  }
 },
 "nbformat": 4,
 "nbformat_minor": 2
}
